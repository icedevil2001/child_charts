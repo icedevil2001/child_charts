{
 "cells": [
  {
   "cell_type": "code",
   "execution_count": 330,
   "metadata": {},
   "outputs": [],
   "source": [
    "import pandas as pd\n",
    "from matplotlib import pyplot as plt    \n",
    "# import seaborn as sns   \n",
    "import numpy as np\n",
    "import re\n",
    "from datetime import datetime\n",
    "from typing import List, Dict, Tuple, Literal, Optional\n",
    "from dataclasses import dataclass\n",
    "    \n",
    "from scipy.stats import norm\n",
    "\n"
   ]
  },
  {
   "cell_type": "code",
   "execution_count": 331,
   "metadata": {},
   "outputs": [
    {
     "name": "stdout",
     "output_type": "stream",
     "text": [
      "The autoreload extension is already loaded. To reload it, use:\n",
      "  %reload_ext autoreload\n"
     ]
    }
   ],
   "source": [
    "%load_ext autoreload\n",
    "%autoreload 2\n",
    "\n",
    "from src.ingest_csv import huckleberry_reader"
   ]
  },
  {
   "cell_type": "code",
   "execution_count": 332,
   "metadata": {},
   "outputs": [],
   "source": [
    "## Reference documents\n",
    "## https://cdn.who.int/media/docs/default-source/child-growth/growth-reference-5-19-years/computation.pdf?sfvrsn=c2ff6a95_4"
   ]
  },
  {
   "cell_type": "code",
   "execution_count": 333,
   "metadata": {},
   "outputs": [],
   "source": [
    "# %conda install -c plotly plotly\n",
    "\n",
    "from plotly.offline import init_notebook_mode, iplot\n",
    "from plotly.graph_objs import *"
   ]
  },
  {
   "cell_type": "code",
   "execution_count": 397,
   "metadata": {},
   "outputs": [],
   "source": [
    "class Zind:\n",
    "        #           [y/M(t)]^L(t) - 1\n",
    "        #   Zind =  -----------------\n",
    "        #               S(t)L(t)\n",
    "    def __init__(self, L,M,S, y):\n",
    "        self.L = L # co\n",
    "        self.M = M # median\n",
    "        self.S = S # standard deviation\n",
    "        self.y = y # age or length or weight or BMI\n",
    "    \n",
    "    def _zind(self, y):\n",
    "        return (((y/self.M)**self.L) - 1) / (self.S * self.L)\n",
    "    \n",
    "    def sdx(self, X):\n",
    "        ## SDpos3 = M * (1 + L * S * 3)^(1/L)\n",
    "        ## SDposX = M * (1 + L * S * X)^(1/L)\n",
    "        return self.M * (1 + self.L * self.S * X)**(1/self.L)\n",
    "    \n",
    "    def sdpos23(self):\n",
    "        return self.sdx(3) - self.sdx(2)\n",
    "    \n",
    "    def sdneg23(self):\n",
    "        return self.sdx(-2) - self.sdx(-3)\n",
    "    \n",
    "    def zscore(self):\n",
    "        \"\"\"calculate zscore for given measurement\"\"\"\n",
    "        #            _\n",
    "                #           |\n",
    "                #           |       Zind            if |Zind| <= 3\n",
    "                #           |\n",
    "                #           |\n",
    "                #           |       y - SD3pos\n",
    "                #   Zind* = | 3 + ( ----------- )   if Zind > 3\n",
    "                #           |         SD23pos\n",
    "                #           |\n",
    "                #           |\n",
    "                #           |\n",
    "                #           |        y - SD3neg\n",
    "                #           | -3 + ( ----------- )  if Zind < -3\n",
    "                #           |          SD23neg\n",
    "                #           |\n",
    "                #           |_\n",
    "        res =  self._zind(self.y)\n",
    "        if res >= -3 and res <=3: #≥-3 and ≤3\n",
    "            return res\n",
    "        elif res > 3:\n",
    "            return 3 + (self.y - self.sdx(3)) / self.sdpos23()\n",
    "        elif res < -3:\n",
    "            return -3 + (self.y - self.sdx(-3)) / self.sdneg23()\n",
    "        else:\n",
    "            raise ValueError(\"Zind not in range\")\n",
    "\n",
    "    def z_score_to_percentile(self):\n",
    "        \"\"\"Calcaulte percentile from z_score\"\"\"\n",
    "        return round(norm.cdf(round(self.zscore(), 2)) * 100, 2)\n",
    "\n",
    "    def __repr__(self):\n",
    "        return f\"Zind(L={self.L}, M={self.M}, S={self.S}, y={self.y})\"\n",
    "    \n",
    "    "
   ]
  },
  {
   "cell_type": "code",
   "execution_count": 335,
   "metadata": {},
   "outputs": [],
   "source": [
    "def kg_to_lb(kg: float) -> float:\n",
    "    return kg * 2.20462\n",
    "\n",
    "def lb_to_kg(lb: float) -> float:\n",
    "    return lb / 2.20462\n",
    "\n",
    "def lb_and_oz_to_kg(lb: float, oz: float) -> float:\n",
    "    return lb_to_kg(lb) + lb_to_kg(oz / 16)\n"
   ]
  },
  {
   "cell_type": "code",
   "execution_count": 336,
   "metadata": {},
   "outputs": [
    {
     "name": "stdout",
     "output_type": "stream",
     "text": [
      "Child(name='John', gender='G', dob=datetime.datetime(2023, 12, 3, 0, 0))\n",
      "2024-03-11 23:19:51.006902 2024-03-09 00:00:00 False\n"
     ]
    },
    {
     "data": {
      "text/plain": [
       "Measurement(child=Child(name='John', gender='G', dob=datetime.datetime(2023, 12, 3, 0, 0)), date=datetime.datetime(2024, 3, 9, 0, 0), weight=10, height=70, hc=45)"
      ]
     },
     "execution_count": 336,
     "metadata": {},
     "output_type": "execute_result"
    }
   ],
   "source": [
    "\n",
    "@dataclass\n",
    "class Child():\n",
    "    \"\"\"Child class with name and date of birth attributes and a method to calculate age in months\n",
    "        Args:\n",
    "            name (str): Name of the child\n",
    "            gender (Literal['M','F'])\n",
    "            dob (str): Date of birth in the format 'YYYY-MM-DD'\n",
    "    \"\"\"\n",
    "    name: str\n",
    "    gender: Literal['M', 'F', 'girl', 'boy']\n",
    "    dob: str\n",
    "\n",
    "    def __post_init__(self):\n",
    "        self.age = self.get_age()\n",
    "        self.months = self.get_month()\n",
    "        self.dob = self.dob_validation()\n",
    "        self.gender = self.get_gender()\n",
    "\n",
    "    def dob_validation(self):\n",
    "        \"\"\"Date of birth cannot be in the future.\"\"\"\n",
    "        today = datetime.today()\n",
    "        dob = datetime.strptime(self.dob, '%Y-%m-%d')\n",
    "        if dob>=today:\n",
    "            raise ValueError('Date of birth cannot be in the future')\n",
    "        else:\n",
    "            return dob\n",
    "    \n",
    "    def get_age(self):\n",
    "        \"\"\"Number of years since birth\"\"\"\n",
    "        today = datetime.today()\n",
    "        dob = datetime.strptime(self.dob, '%Y-%m-%d')\n",
    "        age = today.year - dob.year - ((today.month, today.day) < (dob.month, dob.day))\n",
    "        return age\n",
    "    \n",
    "    def get_months(self):    \n",
    "        \"\"\"Number of months since birth\"\"\"\n",
    "        today = datetime.today()\n",
    "        dob = datetime.strptime(self.dob, '%Y-%m-%d')\n",
    "        age = today.month - dob.month + 12 * (today.year - dob.year)\n",
    "        return age\n",
    "    \n",
    "    def get_gender(self):\n",
    "        gen = {\n",
    "            'm': 'boys', \n",
    "            'f': 'girls', \n",
    "            'girl': 'girls',\n",
    "            'boy': 'boys'\n",
    "        }\n",
    "        return gen[self.gender.lower()]\n",
    "    \n",
    "\n",
    "@dataclass\n",
    "class Measurement:\n",
    "    \"\"\"Measurement class with date and value attributes.\n",
    "    \n",
    "    Args:\n",
    "        child (Child): Child object\n",
    "        date (str): Date of the measurement in the format 'YYYY-MM-DD'\n",
    "        weight (float): Weight in kg\n",
    "        height (float): Height in cm\n",
    "        hc (float): Head circumference in cm\n",
    "        \n",
    "    \"\"\"\n",
    "    child: Child\n",
    "    date: str\n",
    "    weight: Optional[float] = None\n",
    "    height: Optional[float] = None\n",
    "    hc: Optional[float] = None\n",
    "    \n",
    "    def __post_init__(self):\n",
    "        self.bmi = self.get_bmi()\n",
    "        self.date = self.date_validation()\n",
    "        \n",
    "    def get_bmi(self):\n",
    "        if self.weight and self.height:\n",
    "            return self.weight / (self.height ** 2)\n",
    "        \n",
    "    def date_validation(self):\n",
    "        \"\"\"Measure date cannot be in the future.\"\"\"\n",
    "        today = datetime.today()\n",
    "        date = datetime.strptime(self.date, '%Y-%m-%d')\n",
    "        print(today, date, date>today)\n",
    "        if date>=today:\n",
    "            raise ValueError('Date cannot be in the future')\n",
    "        else:\n",
    "            return date\n",
    "        \n",
    "    \n",
    "\n",
    "    def __str__(self):\n",
    "        return f'{self.child.name} was {self.weight} kg, {self.height} cm, and {self.hc} cm on {self.date}'\n",
    "        \n",
    "    \n",
    "    \n",
    "child = Child('John', \"g\", '2023-12-03')\n",
    "print(child)\n",
    "m = Measurement(child, '2024-03-09', 10, 70, 45)\n",
    "m"
   ]
  },
  {
   "cell_type": "code",
   "execution_count": 337,
   "metadata": {},
   "outputs": [],
   "source": [
    "\n",
    "gender = \"girls\" # boys\n",
    "dob = datetime(2023, 12, 3)\n",
    "\n",
    "# reference https://www.who.int/tools/child-growth-standards/standards/weight-for-age\n",
    "\n",
    "\n",
    "# https://cdn.who.int/media/docs/default-source/child-growth/child-growth-standards/indicators/weight-for-age/tab_wfa_boys_p_0_5.xlsx?sfvrsn=a0b3ed5_7\n",
    "# https://cdn.who.int/media/docs/default-source/child-growth/child-growth-standards/indicators/weight-for-age/tab_wfa_girls_p_0_5.xlsx?sfvrsn=666fe445_7\n",
    "databases = {\n",
    "    \"weight\": f\"https://cdn.who.int/media/docs/default-source/child-growth/child-growth-standards/indicators/weight-for-age/tab_wfa_{gender}_p_0_5.xlsx\",\n",
    "    \"height\": f\"https://cdn.who.int/media/docs/default-source/child-growth/child-growth-standards/indicators/length-height-for-age/tab_lhfa_{gender}_p_0_2.xlsx\",\n",
    "    \"bmi\": f\"https://cdn.who.int/media/docs/default-source/child-growth/child-growth-standards/indicators/body-mass-index-for-age/tab_bmi_{gender}_p_0_2.xlsx\",\n",
    "    \"hc\": f\"https://cdn.who.int/media/docs/default-source/child-growth/child-growth-standards/indicators/head-circumference-for-age/tab_hcfa_{gender}_p_0_5.xlsx\"\n",
    "}\n"
   ]
  },
  {
   "cell_type": "code",
   "execution_count": null,
   "metadata": {},
   "outputs": [],
   "source": []
  },
  {
   "cell_type": "code",
   "execution_count": 338,
   "metadata": {},
   "outputs": [
    {
     "data": {
      "text/html": [
       "<div>\n",
       "<style scoped>\n",
       "    .dataframe tbody tr th:only-of-type {\n",
       "        vertical-align: middle;\n",
       "    }\n",
       "\n",
       "    .dataframe tbody tr th {\n",
       "        vertical-align: top;\n",
       "    }\n",
       "\n",
       "    .dataframe thead th {\n",
       "        text-align: right;\n",
       "    }\n",
       "</style>\n",
       "<table border=\"1\" class=\"dataframe\">\n",
       "  <thead>\n",
       "    <tr style=\"text-align: right;\">\n",
       "      <th></th>\n",
       "      <th>Month</th>\n",
       "      <th>L</th>\n",
       "      <th>M</th>\n",
       "      <th>S</th>\n",
       "      <th>2</th>\n",
       "      <th>5</th>\n",
       "      <th>10</th>\n",
       "      <th>25</th>\n",
       "      <th>50</th>\n",
       "      <th>75</th>\n",
       "      <th>90</th>\n",
       "      <th>95</th>\n",
       "      <th>98</th>\n",
       "    </tr>\n",
       "  </thead>\n",
       "  <tbody>\n",
       "    <tr>\n",
       "      <th>0</th>\n",
       "      <td>0</td>\n",
       "      <td>0.3809</td>\n",
       "      <td>3.2322</td>\n",
       "      <td>0.14171</td>\n",
       "      <td>2.394672</td>\n",
       "      <td>2.532145</td>\n",
       "      <td>2.677725</td>\n",
       "      <td>2.932331</td>\n",
       "      <td>3.2322</td>\n",
       "      <td>3.550350</td>\n",
       "      <td>3.852667</td>\n",
       "      <td>4.040959</td>\n",
       "      <td>4.230430</td>\n",
       "    </tr>\n",
       "    <tr>\n",
       "      <th>1</th>\n",
       "      <td>1</td>\n",
       "      <td>0.1714</td>\n",
       "      <td>4.1873</td>\n",
       "      <td>0.13724</td>\n",
       "      <td>3.161067</td>\n",
       "      <td>3.326209</td>\n",
       "      <td>3.502477</td>\n",
       "      <td>3.814261</td>\n",
       "      <td>4.1873</td>\n",
       "      <td>4.590075</td>\n",
       "      <td>4.979539</td>\n",
       "      <td>5.225436</td>\n",
       "      <td>5.475454</td>\n",
       "    </tr>\n",
       "    <tr>\n",
       "      <th>2</th>\n",
       "      <td>2</td>\n",
       "      <td>0.0962</td>\n",
       "      <td>5.1282</td>\n",
       "      <td>0.13000</td>\n",
       "      <td>3.941053</td>\n",
       "      <td>4.131720</td>\n",
       "      <td>4.335355</td>\n",
       "      <td>4.695944</td>\n",
       "      <td>5.1282</td>\n",
       "      <td>5.596104</td>\n",
       "      <td>6.049862</td>\n",
       "      <td>6.337067</td>\n",
       "      <td>6.629679</td>\n",
       "    </tr>\n",
       "    <tr>\n",
       "      <th>3</th>\n",
       "      <td>3</td>\n",
       "      <td>0.0402</td>\n",
       "      <td>5.8458</td>\n",
       "      <td>0.12619</td>\n",
       "      <td>4.536040</td>\n",
       "      <td>4.745935</td>\n",
       "      <td>4.970282</td>\n",
       "      <td>5.368044</td>\n",
       "      <td>5.8458</td>\n",
       "      <td>6.364222</td>\n",
       "      <td>6.868317</td>\n",
       "      <td>7.188096</td>\n",
       "      <td>7.514480</td>\n",
       "    </tr>\n",
       "    <tr>\n",
       "      <th>4</th>\n",
       "      <td>4</td>\n",
       "      <td>-0.0050</td>\n",
       "      <td>6.4237</td>\n",
       "      <td>0.12402</td>\n",
       "      <td>5.013368</td>\n",
       "      <td>5.238858</td>\n",
       "      <td>5.480078</td>\n",
       "      <td>5.908320</td>\n",
       "      <td>6.4237</td>\n",
       "      <td>6.984281</td>\n",
       "      <td>7.530756</td>\n",
       "      <td>7.878150</td>\n",
       "      <td>8.233311</td>\n",
       "    </tr>\n",
       "  </tbody>\n",
       "</table>\n",
       "</div>"
      ],
      "text/plain": [
       "   Month       L       M        S         2         5        10        25  \\\n",
       "0      0  0.3809  3.2322  0.14171  2.394672  2.532145  2.677725  2.932331   \n",
       "1      1  0.1714  4.1873  0.13724  3.161067  3.326209  3.502477  3.814261   \n",
       "2      2  0.0962  5.1282  0.13000  3.941053  4.131720  4.335355  4.695944   \n",
       "3      3  0.0402  5.8458  0.12619  4.536040  4.745935  4.970282  5.368044   \n",
       "4      4 -0.0050  6.4237  0.12402  5.013368  5.238858  5.480078  5.908320   \n",
       "\n",
       "       50        75        90        95        98  \n",
       "0  3.2322  3.550350  3.852667  4.040959  4.230430  \n",
       "1  4.1873  4.590075  4.979539  5.225436  5.475454  \n",
       "2  5.1282  5.596104  6.049862  6.337067  6.629679  \n",
       "3  5.8458  6.364222  6.868317  7.188096  7.514480  \n",
       "4  6.4237  6.984281  7.530756  7.878150  8.233311  "
      ]
     },
     "execution_count": 338,
     "metadata": {},
     "output_type": "execute_result"
    }
   ],
   "source": [
    "def rename_columns(col):\n",
    "    r = re.match(r'(\\d+)\\w+', col)\n",
    "    if r:\n",
    "        return int(r.group(1))\n",
    "    else:\n",
    "        return col\n",
    "\n",
    "# def parse_databases(databases: Dict[str, str]) -> Dict[str, pd.DataFrame]:\n",
    "#     \"\"\"Parse databases and return a dictionary of dataframes\"\"\"\n",
    "#     dfs = {}\n",
    "#     for key, url in databases.items():\n",
    "#         df = pd.read_excel(url, header=0)\n",
    "#         df.columns = [rename_columns(col) for col in df.columns ]\n",
    "#         dfs[key] = df\n",
    "#     return dfs\n",
    "\n",
    "\n",
    "def parse_table(url: str) -> pd.DataFrame:\n",
    "    \"\"\"Parse a table from a given url\"\"\"\n",
    "    df = (\n",
    "        pd\n",
    "        .read_html(url, header=0)[1]\n",
    "        .rename(columns={\"2nd (2.3rd)\": \"2nd\", '98th (97.7th)': '98th'})\n",
    "    )\n",
    "    df.columns = [rename_columns(col) for col in df.columns ]\n",
    "    return df\n",
    "# # url = 'https://www.cdc.gov/growthcharts/who/boys_weight_head_circumference.htm'\n",
    "url  = 'https://www.cdc.gov/growthcharts/who/girls_length_weight.htm'\n",
    "df = parse_table(url)   \n",
    "df.head()\n",
    "# df.head() \n"
   ]
  },
  {
   "cell_type": "code",
   "execution_count": 339,
   "metadata": {},
   "outputs": [
    {
     "name": "stdout",
     "output_type": "stream",
     "text": [
      "[2, 5, 10, 25, 50, 75, 90, 95, 98]\n"
     ]
    }
   ],
   "source": [
    "nums_col = [x for x in df.columns if isinstance(x, int)]\n",
    "print(nums_col)"
   ]
  },
  {
   "cell_type": "code",
   "execution_count": 340,
   "metadata": {},
   "outputs": [],
   "source": [
    "# df.plot(x='Length', y=[2, 50, 98], kind='line')\n"
   ]
  },
  {
   "cell_type": "code",
   "execution_count": null,
   "metadata": {},
   "outputs": [],
   "source": []
  },
  {
   "cell_type": "code",
   "execution_count": 341,
   "metadata": {},
   "outputs": [
    {
     "name": "stdout",
     "output_type": "stream",
     "text": [
      "2024-03-11 23:19:52.081479 2024-03-09 00:00:00 False\n",
      "30\n",
      "3.35390255606726\n",
      "-3.794790928768083\n",
      "1.4698319520484722\n"
     ]
    }
   ],
   "source": [
    "child1 = Child('John', 'M', '2012-12-03')\n",
    "child1.age\n",
    "\n",
    "m1 = Measurement(child1, '2024-03-09', 10, 70, 45)\n",
    "m1.bmi = 30\n",
    "print(m1.bmi)\n",
    "\n",
    "z = Zind(-1.7862, 16.9392, 0.11070, m1.bmi)\n",
    "print(z.zscore())\n",
    "# Child 1: 11 year-old boy with BMI=30\n",
    "# L=-1.7862; M=16.9392; S=0.11070; \n",
    "# answer: 3.35\n",
    "\n",
    "\n",
    "z = Zind(-1.3529, 20.4951, 0.12579, 14)\n",
    "print(z.zscore())\n",
    "# Child 2: 16 year-old boy with BMI=14.\n",
    "# L=-1.3529; M=20.4951; S=0.12579; \n",
    "# answer: -3.80\n",
    "\n",
    "\n",
    "z = Zind(-1.6318, 16.0490, 0.10038, 19)\n",
    "print(z.zscore())   \n",
    "# Child 3: 9 year-old boy with BMI=19\n",
    "# L=-1.6318; M=16.0490; S=0.10038; \n",
    "# answer: 1.47\n",
    "\n"
   ]
  },
  {
   "cell_type": "code",
   "execution_count": 342,
   "metadata": {},
   "outputs": [
    {
     "name": "stdout",
     "output_type": "stream",
     "text": [
      "0 3\n",
      "2024-03-11 23:19:52.166296 2024-03-09 00:00:00 False\n",
      "-0.8952275022630395\n"
     ]
    }
   ],
   "source": [
    "niki = Child('Niki', 'F', '2023-12-03')\n",
    "print(niki.age, niki.months)\n",
    "m2 = Measurement(niki, '2024-03-09', 5.22)\n",
    "L=0.0402\n",
    "M=5.8458\n",
    "S=0.12619\n",
    "z = Zind(L,M,S, m2.weight)\n",
    "print(z.zscore())   \n",
    "\n"
   ]
  },
  {
   "cell_type": "code",
   "execution_count": 343,
   "metadata": {},
   "outputs": [],
   "source": [
    "# 3\t0.0402\t5.8458\t0.12619\t3.9\t4.4\t4.6\t4.7\t5\n",
    "# 4\t-0.005\t6.4237\t0.12402\t4.4\t4.8\t5.1\t5.2\t5.5"
   ]
  },
  {
   "cell_type": "code",
   "execution_count": 344,
   "metadata": {},
   "outputs": [
    {
     "name": "stdout",
     "output_type": "stream",
     "text": [
      "-1.2346114815021876 10.848756693001672\n"
     ]
    }
   ],
   "source": [
    "z = Zind(0.0402, 5.8458, 0.12619, 5)\n",
    "print(z.zscore(), z.z_score_to_percentile())"
   ]
  },
  {
   "cell_type": "code",
   "execution_count": 345,
   "metadata": {},
   "outputs": [
    {
     "name": "stdout",
     "output_type": "stream",
     "text": [
      "-1.252269412006037 10.52358553671785\n"
     ]
    }
   ],
   "source": [
    "z = Zind(-0.005, 6.4237, 0.12402, 5.5)\n",
    "print(z.zscore(), z.z_score_to_percentile())"
   ]
  },
  {
   "cell_type": "code",
   "execution_count": 346,
   "metadata": {},
   "outputs": [
    {
     "data": {
      "text/html": [
       "<div>\n",
       "<style scoped>\n",
       "    .dataframe tbody tr th:only-of-type {\n",
       "        vertical-align: middle;\n",
       "    }\n",
       "\n",
       "    .dataframe tbody tr th {\n",
       "        vertical-align: top;\n",
       "    }\n",
       "\n",
       "    .dataframe thead th {\n",
       "        text-align: right;\n",
       "    }\n",
       "</style>\n",
       "<table border=\"1\" class=\"dataframe\">\n",
       "  <thead>\n",
       "    <tr style=\"text-align: right;\">\n",
       "      <th></th>\n",
       "      <th>Month</th>\n",
       "      <th>L</th>\n",
       "      <th>M</th>\n",
       "      <th>S</th>\n",
       "      <th>2</th>\n",
       "      <th>5</th>\n",
       "      <th>10</th>\n",
       "      <th>25</th>\n",
       "      <th>50</th>\n",
       "      <th>75</th>\n",
       "      <th>90</th>\n",
       "      <th>95</th>\n",
       "      <th>98</th>\n",
       "    </tr>\n",
       "  </thead>\n",
       "  <tbody>\n",
       "    <tr>\n",
       "      <th>0</th>\n",
       "      <td>0</td>\n",
       "      <td>0.3809</td>\n",
       "      <td>3.2322</td>\n",
       "      <td>0.14171</td>\n",
       "      <td>2.394672</td>\n",
       "      <td>2.532145</td>\n",
       "      <td>2.677725</td>\n",
       "      <td>2.932331</td>\n",
       "      <td>3.2322</td>\n",
       "      <td>3.550350</td>\n",
       "      <td>3.852667</td>\n",
       "      <td>4.040959</td>\n",
       "      <td>4.230430</td>\n",
       "    </tr>\n",
       "    <tr>\n",
       "      <th>1</th>\n",
       "      <td>1</td>\n",
       "      <td>0.1714</td>\n",
       "      <td>4.1873</td>\n",
       "      <td>0.13724</td>\n",
       "      <td>3.161067</td>\n",
       "      <td>3.326209</td>\n",
       "      <td>3.502477</td>\n",
       "      <td>3.814261</td>\n",
       "      <td>4.1873</td>\n",
       "      <td>4.590075</td>\n",
       "      <td>4.979539</td>\n",
       "      <td>5.225436</td>\n",
       "      <td>5.475454</td>\n",
       "    </tr>\n",
       "    <tr>\n",
       "      <th>2</th>\n",
       "      <td>2</td>\n",
       "      <td>0.0962</td>\n",
       "      <td>5.1282</td>\n",
       "      <td>0.13000</td>\n",
       "      <td>3.941053</td>\n",
       "      <td>4.131720</td>\n",
       "      <td>4.335355</td>\n",
       "      <td>4.695944</td>\n",
       "      <td>5.1282</td>\n",
       "      <td>5.596104</td>\n",
       "      <td>6.049862</td>\n",
       "      <td>6.337067</td>\n",
       "      <td>6.629679</td>\n",
       "    </tr>\n",
       "    <tr>\n",
       "      <th>3</th>\n",
       "      <td>3</td>\n",
       "      <td>0.0402</td>\n",
       "      <td>5.8458</td>\n",
       "      <td>0.12619</td>\n",
       "      <td>4.536040</td>\n",
       "      <td>4.745935</td>\n",
       "      <td>4.970282</td>\n",
       "      <td>5.368044</td>\n",
       "      <td>5.8458</td>\n",
       "      <td>6.364222</td>\n",
       "      <td>6.868317</td>\n",
       "      <td>7.188096</td>\n",
       "      <td>7.514480</td>\n",
       "    </tr>\n",
       "    <tr>\n",
       "      <th>4</th>\n",
       "      <td>4</td>\n",
       "      <td>-0.0050</td>\n",
       "      <td>6.4237</td>\n",
       "      <td>0.12402</td>\n",
       "      <td>5.013368</td>\n",
       "      <td>5.238858</td>\n",
       "      <td>5.480078</td>\n",
       "      <td>5.908320</td>\n",
       "      <td>6.4237</td>\n",
       "      <td>6.984281</td>\n",
       "      <td>7.530756</td>\n",
       "      <td>7.878150</td>\n",
       "      <td>8.233311</td>\n",
       "    </tr>\n",
       "    <tr>\n",
       "      <th>5</th>\n",
       "      <td>5</td>\n",
       "      <td>-0.0430</td>\n",
       "      <td>6.8985</td>\n",
       "      <td>0.12274</td>\n",
       "      <td>5.403844</td>\n",
       "      <td>5.642267</td>\n",
       "      <td>5.897544</td>\n",
       "      <td>6.351329</td>\n",
       "      <td>6.8985</td>\n",
       "      <td>7.495018</td>\n",
       "      <td>8.077933</td>\n",
       "      <td>8.449225</td>\n",
       "      <td>8.829415</td>\n",
       "    </tr>\n",
       "    <tr>\n",
       "      <th>6</th>\n",
       "      <td>6</td>\n",
       "      <td>-0.0756</td>\n",
       "      <td>7.2970</td>\n",
       "      <td>0.12204</td>\n",
       "      <td>5.729383</td>\n",
       "      <td>5.978880</td>\n",
       "      <td>6.246243</td>\n",
       "      <td>6.722120</td>\n",
       "      <td>7.2970</td>\n",
       "      <td>7.925102</td>\n",
       "      <td>8.540297</td>\n",
       "      <td>8.932890</td>\n",
       "      <td>9.335491</td>\n",
       "    </tr>\n",
       "    <tr>\n",
       "      <th>7</th>\n",
       "      <td>7</td>\n",
       "      <td>-0.1039</td>\n",
       "      <td>7.6422</td>\n",
       "      <td>0.12178</td>\n",
       "      <td>6.008387</td>\n",
       "      <td>6.267836</td>\n",
       "      <td>6.546104</td>\n",
       "      <td>7.042017</td>\n",
       "      <td>7.6422</td>\n",
       "      <td>8.299352</td>\n",
       "      <td>8.944440</td>\n",
       "      <td>9.356859</td>\n",
       "      <td>9.780399</td>\n",
       "    </tr>\n",
       "    <tr>\n",
       "      <th>8</th>\n",
       "      <td>8</td>\n",
       "      <td>-0.1288</td>\n",
       "      <td>7.9487</td>\n",
       "      <td>0.12181</td>\n",
       "      <td>6.253445</td>\n",
       "      <td>6.522061</td>\n",
       "      <td>6.810403</td>\n",
       "      <td>7.324907</td>\n",
       "      <td>7.9487</td>\n",
       "      <td>8.633118</td>\n",
       "      <td>9.306424</td>\n",
       "      <td>9.737639</td>\n",
       "      <td>10.181094</td>\n",
       "    </tr>\n",
       "    <tr>\n",
       "      <th>9</th>\n",
       "      <td>9</td>\n",
       "      <td>-0.1507</td>\n",
       "      <td>8.2254</td>\n",
       "      <td>0.12199</td>\n",
       "      <td>6.472906</td>\n",
       "      <td>6.750018</td>\n",
       "      <td>7.047717</td>\n",
       "      <td>7.579535</td>\n",
       "      <td>8.2254</td>\n",
       "      <td>8.935413</td>\n",
       "      <td>9.635310</td>\n",
       "      <td>10.084290</td>\n",
       "      <td>10.546619</td>\n",
       "    </tr>\n",
       "    <tr>\n",
       "      <th>10</th>\n",
       "      <td>10</td>\n",
       "      <td>-0.1700</td>\n",
       "      <td>8.4800</td>\n",
       "      <td>0.12223</td>\n",
       "      <td>6.673828</td>\n",
       "      <td>6.958886</td>\n",
       "      <td>7.265345</td>\n",
       "      <td>7.813398</td>\n",
       "      <td>8.4800</td>\n",
       "      <td>9.214115</td>\n",
       "      <td>9.939115</td>\n",
       "      <td>10.404900</td>\n",
       "      <td>10.885105</td>\n",
       "    </tr>\n",
       "    <tr>\n",
       "      <th>11</th>\n",
       "      <td>11</td>\n",
       "      <td>-0.1872</td>\n",
       "      <td>8.7192</td>\n",
       "      <td>0.12247</td>\n",
       "      <td>6.862262</td>\n",
       "      <td>7.154830</td>\n",
       "      <td>7.469570</td>\n",
       "      <td>8.032975</td>\n",
       "      <td>8.7192</td>\n",
       "      <td>9.476145</td>\n",
       "      <td>10.224950</td>\n",
       "      <td>10.706700</td>\n",
       "      <td>11.203888</td>\n",
       "    </tr>\n",
       "    <tr>\n",
       "      <th>12</th>\n",
       "      <td>12</td>\n",
       "      <td>-0.2024</td>\n",
       "      <td>8.9481</td>\n",
       "      <td>0.12268</td>\n",
       "      <td>7.042612</td>\n",
       "      <td>7.342376</td>\n",
       "      <td>7.665043</td>\n",
       "      <td>8.243130</td>\n",
       "      <td>8.9481</td>\n",
       "      <td>9.726833</td>\n",
       "      <td>10.498350</td>\n",
       "      <td>10.995310</td>\n",
       "      <td>11.508698</td>\n",
       "    </tr>\n",
       "    <tr>\n",
       "      <th>13</th>\n",
       "      <td>13</td>\n",
       "      <td>-0.2158</td>\n",
       "      <td>9.1699</td>\n",
       "      <td>0.12283</td>\n",
       "      <td>7.217847</td>\n",
       "      <td>7.524538</td>\n",
       "      <td>7.854825</td>\n",
       "      <td>8.446994</td>\n",
       "      <td>9.1699</td>\n",
       "      <td>9.969431</td>\n",
       "      <td>10.762580</td>\n",
       "      <td>11.274010</td>\n",
       "      <td>11.802811</td>\n",
       "    </tr>\n",
       "    <tr>\n",
       "      <th>14</th>\n",
       "      <td>14</td>\n",
       "      <td>-0.2278</td>\n",
       "      <td>9.3870</td>\n",
       "      <td>0.12294</td>\n",
       "      <td>7.389684</td>\n",
       "      <td>7.703130</td>\n",
       "      <td>8.040838</td>\n",
       "      <td>8.646697</td>\n",
       "      <td>9.3870</td>\n",
       "      <td>10.206660</td>\n",
       "      <td>11.020710</td>\n",
       "      <td>11.546120</td>\n",
       "      <td>12.089777</td>\n",
       "    </tr>\n",
       "    <tr>\n",
       "      <th>15</th>\n",
       "      <td>15</td>\n",
       "      <td>-0.2384</td>\n",
       "      <td>9.6008</td>\n",
       "      <td>0.12299</td>\n",
       "      <td>7.559527</td>\n",
       "      <td>7.879566</td>\n",
       "      <td>8.224501</td>\n",
       "      <td>8.843658</td>\n",
       "      <td>9.6008</td>\n",
       "      <td>10.439880</td>\n",
       "      <td>11.274030</td>\n",
       "      <td>11.812850</td>\n",
       "      <td>12.370737</td>\n",
       "    </tr>\n",
       "    <tr>\n",
       "      <th>16</th>\n",
       "      <td>16</td>\n",
       "      <td>-0.2478</td>\n",
       "      <td>9.8124</td>\n",
       "      <td>0.12303</td>\n",
       "      <td>7.727588</td>\n",
       "      <td>8.054179</td>\n",
       "      <td>8.406286</td>\n",
       "      <td>9.038616</td>\n",
       "      <td>9.8124</td>\n",
       "      <td>10.670620</td>\n",
       "      <td>11.524540</td>\n",
       "      <td>12.076520</td>\n",
       "      <td>12.648366</td>\n",
       "    </tr>\n",
       "    <tr>\n",
       "      <th>17</th>\n",
       "      <td>17</td>\n",
       "      <td>-0.2562</td>\n",
       "      <td>10.0226</td>\n",
       "      <td>0.12306</td>\n",
       "      <td>7.894535</td>\n",
       "      <td>8.227652</td>\n",
       "      <td>8.586898</td>\n",
       "      <td>9.232317</td>\n",
       "      <td>10.0226</td>\n",
       "      <td>10.899760</td>\n",
       "      <td>11.773190</td>\n",
       "      <td>12.338140</td>\n",
       "      <td>12.923723</td>\n",
       "    </tr>\n",
       "    <tr>\n",
       "      <th>18</th>\n",
       "      <td>18</td>\n",
       "      <td>-0.2637</td>\n",
       "      <td>10.2315</td>\n",
       "      <td>0.12309</td>\n",
       "      <td>8.060311</td>\n",
       "      <td>8.399952</td>\n",
       "      <td>8.766325</td>\n",
       "      <td>9.424795</td>\n",
       "      <td>10.2315</td>\n",
       "      <td>11.127470</td>\n",
       "      <td>12.020240</td>\n",
       "      <td>12.598040</td>\n",
       "      <td>13.197211</td>\n",
       "    </tr>\n",
       "    <tr>\n",
       "      <th>19</th>\n",
       "      <td>19</td>\n",
       "      <td>-0.2703</td>\n",
       "      <td>10.4393</td>\n",
       "      <td>0.12315</td>\n",
       "      <td>8.224599</td>\n",
       "      <td>8.570832</td>\n",
       "      <td>8.944403</td>\n",
       "      <td>9.616043</td>\n",
       "      <td>10.4393</td>\n",
       "      <td>11.354200</td>\n",
       "      <td>12.266420</td>\n",
       "      <td>12.857120</td>\n",
       "      <td>13.469923</td>\n",
       "    </tr>\n",
       "    <tr>\n",
       "      <th>20</th>\n",
       "      <td>20</td>\n",
       "      <td>-0.2762</td>\n",
       "      <td>10.6464</td>\n",
       "      <td>0.12323</td>\n",
       "      <td>8.387882</td>\n",
       "      <td>8.740760</td>\n",
       "      <td>9.121584</td>\n",
       "      <td>9.806487</td>\n",
       "      <td>10.6464</td>\n",
       "      <td>11.580330</td>\n",
       "      <td>12.512090</td>\n",
       "      <td>13.115730</td>\n",
       "      <td>13.742203</td>\n",
       "    </tr>\n",
       "    <tr>\n",
       "      <th>21</th>\n",
       "      <td>21</td>\n",
       "      <td>-0.2815</td>\n",
       "      <td>10.8534</td>\n",
       "      <td>0.12335</td>\n",
       "      <td>8.550310</td>\n",
       "      <td>8.909946</td>\n",
       "      <td>9.298148</td>\n",
       "      <td>9.996544</td>\n",
       "      <td>10.8534</td>\n",
       "      <td>11.806690</td>\n",
       "      <td>12.758310</td>\n",
       "      <td>13.375110</td>\n",
       "      <td>14.015488</td>\n",
       "    </tr>\n",
       "    <tr>\n",
       "      <th>22</th>\n",
       "      <td>22</td>\n",
       "      <td>-0.2862</td>\n",
       "      <td>11.0608</td>\n",
       "      <td>0.12350</td>\n",
       "      <td>8.712397</td>\n",
       "      <td>9.078906</td>\n",
       "      <td>9.474611</td>\n",
       "      <td>10.186720</td>\n",
       "      <td>11.0608</td>\n",
       "      <td>12.033760</td>\n",
       "      <td>13.005540</td>\n",
       "      <td>13.635700</td>\n",
       "      <td>14.290176</td>\n",
       "    </tr>\n",
       "    <tr>\n",
       "      <th>23</th>\n",
       "      <td>23</td>\n",
       "      <td>-0.2903</td>\n",
       "      <td>11.2688</td>\n",
       "      <td>0.12369</td>\n",
       "      <td>8.874100</td>\n",
       "      <td>9.247632</td>\n",
       "      <td>9.651002</td>\n",
       "      <td>10.377130</td>\n",
       "      <td>11.2688</td>\n",
       "      <td>12.261840</td>\n",
       "      <td>13.254220</td>\n",
       "      <td>13.898010</td>\n",
       "      <td>14.566876</td>\n",
       "    </tr>\n",
       "    <tr>\n",
       "      <th>24</th>\n",
       "      <td>24</td>\n",
       "      <td>-0.2941</td>\n",
       "      <td>11.4775</td>\n",
       "      <td>0.12390</td>\n",
       "      <td>9.035869</td>\n",
       "      <td>9.416516</td>\n",
       "      <td>9.827655</td>\n",
       "      <td>10.567990</td>\n",
       "      <td>11.4775</td>\n",
       "      <td>12.490920</td>\n",
       "      <td>13.504190</td>\n",
       "      <td>14.161810</td>\n",
       "      <td>14.845286</td>\n",
       "    </tr>\n",
       "  </tbody>\n",
       "</table>\n",
       "</div>"
      ],
      "text/plain": [
       "    Month       L        M        S         2         5        10         25  \\\n",
       "0       0  0.3809   3.2322  0.14171  2.394672  2.532145  2.677725   2.932331   \n",
       "1       1  0.1714   4.1873  0.13724  3.161067  3.326209  3.502477   3.814261   \n",
       "2       2  0.0962   5.1282  0.13000  3.941053  4.131720  4.335355   4.695944   \n",
       "3       3  0.0402   5.8458  0.12619  4.536040  4.745935  4.970282   5.368044   \n",
       "4       4 -0.0050   6.4237  0.12402  5.013368  5.238858  5.480078   5.908320   \n",
       "5       5 -0.0430   6.8985  0.12274  5.403844  5.642267  5.897544   6.351329   \n",
       "6       6 -0.0756   7.2970  0.12204  5.729383  5.978880  6.246243   6.722120   \n",
       "7       7 -0.1039   7.6422  0.12178  6.008387  6.267836  6.546104   7.042017   \n",
       "8       8 -0.1288   7.9487  0.12181  6.253445  6.522061  6.810403   7.324907   \n",
       "9       9 -0.1507   8.2254  0.12199  6.472906  6.750018  7.047717   7.579535   \n",
       "10     10 -0.1700   8.4800  0.12223  6.673828  6.958886  7.265345   7.813398   \n",
       "11     11 -0.1872   8.7192  0.12247  6.862262  7.154830  7.469570   8.032975   \n",
       "12     12 -0.2024   8.9481  0.12268  7.042612  7.342376  7.665043   8.243130   \n",
       "13     13 -0.2158   9.1699  0.12283  7.217847  7.524538  7.854825   8.446994   \n",
       "14     14 -0.2278   9.3870  0.12294  7.389684  7.703130  8.040838   8.646697   \n",
       "15     15 -0.2384   9.6008  0.12299  7.559527  7.879566  8.224501   8.843658   \n",
       "16     16 -0.2478   9.8124  0.12303  7.727588  8.054179  8.406286   9.038616   \n",
       "17     17 -0.2562  10.0226  0.12306  7.894535  8.227652  8.586898   9.232317   \n",
       "18     18 -0.2637  10.2315  0.12309  8.060311  8.399952  8.766325   9.424795   \n",
       "19     19 -0.2703  10.4393  0.12315  8.224599  8.570832  8.944403   9.616043   \n",
       "20     20 -0.2762  10.6464  0.12323  8.387882  8.740760  9.121584   9.806487   \n",
       "21     21 -0.2815  10.8534  0.12335  8.550310  8.909946  9.298148   9.996544   \n",
       "22     22 -0.2862  11.0608  0.12350  8.712397  9.078906  9.474611  10.186720   \n",
       "23     23 -0.2903  11.2688  0.12369  8.874100  9.247632  9.651002  10.377130   \n",
       "24     24 -0.2941  11.4775  0.12390  9.035869  9.416516  9.827655  10.567990   \n",
       "\n",
       "         50         75         90         95         98  \n",
       "0    3.2322   3.550350   3.852667   4.040959   4.230430  \n",
       "1    4.1873   4.590075   4.979539   5.225436   5.475454  \n",
       "2    5.1282   5.596104   6.049862   6.337067   6.629679  \n",
       "3    5.8458   6.364222   6.868317   7.188096   7.514480  \n",
       "4    6.4237   6.984281   7.530756   7.878150   8.233311  \n",
       "5    6.8985   7.495018   8.077933   8.449225   8.829415  \n",
       "6    7.2970   7.925102   8.540297   8.932890   9.335491  \n",
       "7    7.6422   8.299352   8.944440   9.356859   9.780399  \n",
       "8    7.9487   8.633118   9.306424   9.737639  10.181094  \n",
       "9    8.2254   8.935413   9.635310  10.084290  10.546619  \n",
       "10   8.4800   9.214115   9.939115  10.404900  10.885105  \n",
       "11   8.7192   9.476145  10.224950  10.706700  11.203888  \n",
       "12   8.9481   9.726833  10.498350  10.995310  11.508698  \n",
       "13   9.1699   9.969431  10.762580  11.274010  11.802811  \n",
       "14   9.3870  10.206660  11.020710  11.546120  12.089777  \n",
       "15   9.6008  10.439880  11.274030  11.812850  12.370737  \n",
       "16   9.8124  10.670620  11.524540  12.076520  12.648366  \n",
       "17  10.0226  10.899760  11.773190  12.338140  12.923723  \n",
       "18  10.2315  11.127470  12.020240  12.598040  13.197211  \n",
       "19  10.4393  11.354200  12.266420  12.857120  13.469923  \n",
       "20  10.6464  11.580330  12.512090  13.115730  13.742203  \n",
       "21  10.8534  11.806690  12.758310  13.375110  14.015488  \n",
       "22  11.0608  12.033760  13.005540  13.635700  14.290176  \n",
       "23  11.2688  12.261840  13.254220  13.898010  14.566876  \n",
       "24  11.4775  12.490920  13.504190  14.161810  14.845286  "
      ]
     },
     "execution_count": 346,
     "metadata": {},
     "output_type": "execute_result"
    }
   ],
   "source": [
    "# df = pd.read_html('https://www.cdc.gov/growthcharts/who/girls_length_weight.htm', header=0)[1]\n",
    "# df.head()\n",
    "url = 'https://www.cdc.gov/growthcharts/who/girls_length_weight.htm'\n",
    "df= parse_table(url) \n",
    "df\n",
    "\n"
   ]
  },
  {
   "cell_type": "code",
   "execution_count": null,
   "metadata": {},
   "outputs": [],
   "source": [
    "\n"
   ]
  },
  {
   "cell_type": "code",
   "execution_count": 398,
   "metadata": {},
   "outputs": [
    {
     "name": "stdout",
     "output_type": "stream",
     "text": [
      "[0.0402  5.8458  0.12619]\n",
      "[0.0402  5.8458  0.12619]\n",
      "[0.0402  5.8458  0.12619]\n",
      "[0.0962 5.1282 0.13  ]\n",
      "[0.0962 5.1282 0.13  ]\n"
     ]
    },
    {
     "data": {
      "text/html": [
       "<div>\n",
       "<style scoped>\n",
       "    .dataframe tbody tr th:only-of-type {\n",
       "        vertical-align: middle;\n",
       "    }\n",
       "\n",
       "    .dataframe tbody tr th {\n",
       "        vertical-align: top;\n",
       "    }\n",
       "\n",
       "    .dataframe thead th {\n",
       "        text-align: right;\n",
       "    }\n",
       "</style>\n",
       "<table border=\"1\" class=\"dataframe\">\n",
       "  <thead>\n",
       "    <tr style=\"text-align: right;\">\n",
       "      <th></th>\n",
       "      <th>date</th>\n",
       "      <th>weight_lb</th>\n",
       "      <th>weight_oz</th>\n",
       "      <th>huk_percent</th>\n",
       "      <th>weight_kg</th>\n",
       "      <th>months</th>\n",
       "      <th>percentile</th>\n",
       "    </tr>\n",
       "  </thead>\n",
       "  <tbody>\n",
       "    <tr>\n",
       "      <th>0</th>\n",
       "      <td>2024-03-08</td>\n",
       "      <td>11</td>\n",
       "      <td>8.2</td>\n",
       "      <td>16</td>\n",
       "      <td>5.221988</td>\n",
       "      <td>3.200000</td>\n",
       "      <td>18.67</td>\n",
       "    </tr>\n",
       "    <tr>\n",
       "      <th>1</th>\n",
       "      <td>2024-03-06</td>\n",
       "      <td>11</td>\n",
       "      <td>7.0</td>\n",
       "      <td>16</td>\n",
       "      <td>5.187969</td>\n",
       "      <td>3.133333</td>\n",
       "      <td>17.36</td>\n",
       "    </tr>\n",
       "    <tr>\n",
       "      <th>2</th>\n",
       "      <td>2024-02-24</td>\n",
       "      <td>11</td>\n",
       "      <td>0.0</td>\n",
       "      <td>16</td>\n",
       "      <td>4.989522</td>\n",
       "      <td>2.766667</td>\n",
       "      <td>10.56</td>\n",
       "    </tr>\n",
       "    <tr>\n",
       "      <th>3</th>\n",
       "      <td>2024-02-12</td>\n",
       "      <td>10</td>\n",
       "      <td>4.4</td>\n",
       "      <td>16</td>\n",
       "      <td>4.660667</td>\n",
       "      <td>2.366667</td>\n",
       "      <td>23.27</td>\n",
       "    </tr>\n",
       "    <tr>\n",
       "      <th>4</th>\n",
       "      <td>2024-02-05</td>\n",
       "      <td>10</td>\n",
       "      <td>2.0</td>\n",
       "      <td>17</td>\n",
       "      <td>4.592628</td>\n",
       "      <td>2.133333</td>\n",
       "      <td>20.05</td>\n",
       "    </tr>\n",
       "  </tbody>\n",
       "</table>\n",
       "</div>"
      ],
      "text/plain": [
       "         date  weight_lb  weight_oz  huk_percent  weight_kg    months  \\\n",
       "0  2024-03-08         11        8.2           16   5.221988  3.200000   \n",
       "1  2024-03-06         11        7.0           16   5.187969  3.133333   \n",
       "2  2024-02-24         11        0.0           16   4.989522  2.766667   \n",
       "3  2024-02-12         10        4.4           16   4.660667  2.366667   \n",
       "4  2024-02-05         10        2.0           17   4.592628  2.133333   \n",
       "\n",
       "   percentile  \n",
       "0       18.67  \n",
       "1       17.36  \n",
       "2       10.56  \n",
       "3       23.27  \n",
       "4       20.05  "
      ]
     },
     "execution_count": 398,
     "metadata": {},
     "output_type": "execute_result"
    }
   ],
   "source": [
    "LMS_cols = ['L', 'M', 'S']\n",
    "\n",
    "nikki = Child('Nikki', 'F', '2023-12-03')\n",
    "\n",
    "\n",
    "subject = pd.DataFrame({\n",
    "    'date': ['2024-03-08', '2024-03-06', '2024-02-24', '2024-02-12', '2024-02-05'],\n",
    "    'weight_lb': [11, 11, 11, 10, 10],\n",
    "    'weight_oz': [8.2, 7, 0, 4.4, 2],\n",
    "    'huk_percent': [16, 16, 16, 16, 17]\n",
    "\n",
    "})\n",
    "\n",
    "def get_LSM(df, month):\n",
    "    values = df[df['Month'] == month][LMS_cols].values[0]\n",
    "    print(values)\n",
    "    return values\n",
    "\n",
    "\n",
    "subject['weight_kg'] = lb_and_oz_to_kg(subject['weight_lb'], subject['weight_oz'])\n",
    "subject['months'] = subject['date'].apply(lambda x: (datetime.strptime(x, '%Y-%m-%d') - niki.dob).days / 30)\n",
    "subject['percentile'] = subject.apply(lambda x: Zind(*get_LSM(df, round(x['months'],0)), x['weight_kg']).z_score_to_percentile(), axis=1)\n",
    "subject"
   ]
  },
  {
   "cell_type": "code",
   "execution_count": 348,
   "metadata": {},
   "outputs": [
    {
     "data": {
      "text/html": [
       "<div>\n",
       "<style scoped>\n",
       "    .dataframe tbody tr th:only-of-type {\n",
       "        vertical-align: middle;\n",
       "    }\n",
       "\n",
       "    .dataframe tbody tr th {\n",
       "        vertical-align: top;\n",
       "    }\n",
       "\n",
       "    .dataframe thead th {\n",
       "        text-align: right;\n",
       "    }\n",
       "</style>\n",
       "<table border=\"1\" class=\"dataframe\">\n",
       "  <thead>\n",
       "    <tr style=\"text-align: right;\">\n",
       "      <th></th>\n",
       "      <th>date</th>\n",
       "      <th>weight_lb</th>\n",
       "      <th>weight_oz</th>\n",
       "      <th>huk_percent</th>\n",
       "      <th>weight_kg</th>\n",
       "      <th>months</th>\n",
       "      <th>percentile</th>\n",
       "    </tr>\n",
       "  </thead>\n",
       "  <tbody>\n",
       "    <tr>\n",
       "      <th>0</th>\n",
       "      <td>2024-03-08</td>\n",
       "      <td>11</td>\n",
       "      <td>8.2</td>\n",
       "      <td>16</td>\n",
       "      <td>5.221988</td>\n",
       "      <td>3.200000</td>\n",
       "      <td>18.613666</td>\n",
       "    </tr>\n",
       "    <tr>\n",
       "      <th>1</th>\n",
       "      <td>2024-03-06</td>\n",
       "      <td>11</td>\n",
       "      <td>7.0</td>\n",
       "      <td>16</td>\n",
       "      <td>5.187969</td>\n",
       "      <td>3.133333</td>\n",
       "      <td>17.264189</td>\n",
       "    </tr>\n",
       "    <tr>\n",
       "      <th>2</th>\n",
       "      <td>2024-02-24</td>\n",
       "      <td>11</td>\n",
       "      <td>0.0</td>\n",
       "      <td>16</td>\n",
       "      <td>4.989522</td>\n",
       "      <td>2.766667</td>\n",
       "      <td>10.544338</td>\n",
       "    </tr>\n",
       "    <tr>\n",
       "      <th>3</th>\n",
       "      <td>2024-02-12</td>\n",
       "      <td>10</td>\n",
       "      <td>4.4</td>\n",
       "      <td>16</td>\n",
       "      <td>4.660667</td>\n",
       "      <td>2.366667</td>\n",
       "      <td>23.208922</td>\n",
       "    </tr>\n",
       "    <tr>\n",
       "      <th>4</th>\n",
       "      <td>2024-02-05</td>\n",
       "      <td>10</td>\n",
       "      <td>2.0</td>\n",
       "      <td>17</td>\n",
       "      <td>4.592628</td>\n",
       "      <td>2.133333</td>\n",
       "      <td>19.933660</td>\n",
       "    </tr>\n",
       "  </tbody>\n",
       "</table>\n",
       "</div>"
      ],
      "text/plain": [
       "         date  weight_lb  weight_oz  huk_percent  weight_kg    months  \\\n",
       "0  2024-03-08         11        8.2           16   5.221988  3.200000   \n",
       "1  2024-03-06         11        7.0           16   5.187969  3.133333   \n",
       "2  2024-02-24         11        0.0           16   4.989522  2.766667   \n",
       "3  2024-02-12         10        4.4           16   4.660667  2.366667   \n",
       "4  2024-02-05         10        2.0           17   4.592628  2.133333   \n",
       "\n",
       "   percentile  \n",
       "0   18.613666  \n",
       "1   17.264189  \n",
       "2   10.544338  \n",
       "3   23.208922  \n",
       "4   19.933660  "
      ]
     },
     "execution_count": 348,
     "metadata": {},
     "output_type": "execute_result"
    }
   ],
   "source": [
    "subject\n"
   ]
  },
  {
   "cell_type": "code",
   "execution_count": 349,
   "metadata": {},
   "outputs": [],
   "source": [
    "\n"
   ]
  },
  {
   "cell_type": "code",
   "execution_count": 362,
   "metadata": {},
   "outputs": [
    {
     "name": "stdout",
     "output_type": "stream",
     "text": [
      "nan\n",
      "nan\n",
      "nan\n",
      "nan\n",
      "nan\n",
      "1.87ft.in\n",
      "1.88ft.in\n",
      "nan\n",
      "54cm\n",
      "nan\n",
      "nan\n",
      "1.74ft.in\n",
      "nan\n",
      "1.75ft.in\n",
      "nan\n",
      "nan\n",
      "nan\n",
      "nan\n",
      "nan\n",
      "14.5in\n",
      "nan\n",
      "nan\n",
      "13.8in\n",
      "nan\n",
      "nan\n",
      "13.5cm\n",
      "nan\n",
      "nan\n",
      "[0.0402  5.8458  0.12619]\n",
      "[0.0402  5.8458  0.12619]\n",
      "[0.0402  5.8458  0.12619]\n",
      "[0.0402  5.8458  0.12619]\n",
      "[0.0962 5.1282 0.13  ]\n",
      "[0.0962 5.1282 0.13  ]\n",
      "[0.0962 5.1282 0.13  ]\n",
      "[0.0962 5.1282 0.13  ]\n",
      "[0.1714  4.1873  0.13724]\n",
      "[0.1714  4.1873  0.13724]\n",
      "[0.1714  4.1873  0.13724]\n",
      "[0.3809  3.2322  0.14171]\n",
      "[0.3809  3.2322  0.14171]\n",
      "[0.3809  3.2322  0.14171]\n"
     ]
    },
    {
     "data": {
      "text/html": [
       "<div>\n",
       "<style scoped>\n",
       "    .dataframe tbody tr th:only-of-type {\n",
       "        vertical-align: middle;\n",
       "    }\n",
       "\n",
       "    .dataframe tbody tr th {\n",
       "        vertical-align: top;\n",
       "    }\n",
       "\n",
       "    .dataframe thead th {\n",
       "        text-align: right;\n",
       "    }\n",
       "</style>\n",
       "<table border=\"1\" class=\"dataframe\">\n",
       "  <thead>\n",
       "    <tr style=\"text-align: right;\">\n",
       "      <th></th>\n",
       "      <th>Type</th>\n",
       "      <th>date</th>\n",
       "      <th>weight</th>\n",
       "      <th>height</th>\n",
       "      <th>hc</th>\n",
       "      <th>weight_kg</th>\n",
       "      <th>height_cm</th>\n",
       "      <th>hc_cm</th>\n",
       "      <th>months</th>\n",
       "      <th>percentile</th>\n",
       "    </tr>\n",
       "  </thead>\n",
       "  <tbody>\n",
       "    <tr>\n",
       "      <th>54</th>\n",
       "      <td>Growth</td>\n",
       "      <td>2024-03-08 16:23:00</td>\n",
       "      <td>11.51lbs.oz</td>\n",
       "      <td>NaN</td>\n",
       "      <td>NaN</td>\n",
       "      <td>5.220844</td>\n",
       "      <td>&lt;NA&gt;</td>\n",
       "      <td>&lt;NA&gt;</td>\n",
       "      <td>3.200000</td>\n",
       "      <td>18.57</td>\n",
       "    </tr>\n",
       "    <tr>\n",
       "      <th>125</th>\n",
       "      <td>Growth</td>\n",
       "      <td>2024-03-06 01:23:00</td>\n",
       "      <td>11.44lbs.oz</td>\n",
       "      <td>NaN</td>\n",
       "      <td>NaN</td>\n",
       "      <td>5.189092</td>\n",
       "      <td>&lt;NA&gt;</td>\n",
       "      <td>&lt;NA&gt;</td>\n",
       "      <td>3.133333</td>\n",
       "      <td>17.31</td>\n",
       "    </tr>\n",
       "    <tr>\n",
       "      <th>414</th>\n",
       "      <td>Growth</td>\n",
       "      <td>2024-02-24 15:10:00</td>\n",
       "      <td>4.99kg</td>\n",
       "      <td>NaN</td>\n",
       "      <td>NaN</td>\n",
       "      <td>4.990000</td>\n",
       "      <td>&lt;NA&gt;</td>\n",
       "      <td>&lt;NA&gt;</td>\n",
       "      <td>2.766667</td>\n",
       "      <td>10.56</td>\n",
       "    </tr>\n",
       "    <tr>\n",
       "      <th>509</th>\n",
       "      <td>Growth</td>\n",
       "      <td>2024-02-21 07:01:00</td>\n",
       "      <td>10.84lbs.oz</td>\n",
       "      <td>NaN</td>\n",
       "      <td>NaN</td>\n",
       "      <td>4.916937</td>\n",
       "      <td>&lt;NA&gt;</td>\n",
       "      <td>&lt;NA&gt;</td>\n",
       "      <td>2.666667</td>\n",
       "      <td>8.59</td>\n",
       "    </tr>\n",
       "    <tr>\n",
       "      <th>766</th>\n",
       "      <td>Growth</td>\n",
       "      <td>2024-02-12 08:24:00</td>\n",
       "      <td>4.66kg</td>\n",
       "      <td>NaN</td>\n",
       "      <td>NaN</td>\n",
       "      <td>4.660000</td>\n",
       "      <td>&lt;NA&gt;</td>\n",
       "      <td>&lt;NA&gt;</td>\n",
       "      <td>2.366667</td>\n",
       "      <td>23.18</td>\n",
       "    </tr>\n",
       "    <tr>\n",
       "      <th>977</th>\n",
       "      <td>Growth</td>\n",
       "      <td>2024-02-05 15:59:00</td>\n",
       "      <td>10.13lbs.oz</td>\n",
       "      <td>1.87ft.in</td>\n",
       "      <td>14.5in</td>\n",
       "      <td>4.594887</td>\n",
       "      <td>56.9976</td>\n",
       "      <td>36.83</td>\n",
       "      <td>2.133333</td>\n",
       "      <td>20.04</td>\n",
       "    </tr>\n",
       "    <tr>\n",
       "      <th>1082</th>\n",
       "      <td>Growth</td>\n",
       "      <td>2024-02-02 13:54:00</td>\n",
       "      <td>9.81lbs.oz</td>\n",
       "      <td>1.88ft.in</td>\n",
       "      <td>NaN</td>\n",
       "      <td>4.449738</td>\n",
       "      <td>57.3024</td>\n",
       "      <td>&lt;NA&gt;</td>\n",
       "      <td>2.033333</td>\n",
       "      <td>13.91</td>\n",
       "    </tr>\n",
       "    <tr>\n",
       "      <th>1263</th>\n",
       "      <td>Growth</td>\n",
       "      <td>2024-01-25 16:08:00</td>\n",
       "      <td>4.34kg</td>\n",
       "      <td>NaN</td>\n",
       "      <td>NaN</td>\n",
       "      <td>4.340000</td>\n",
       "      <td>&lt;NA&gt;</td>\n",
       "      <td>&lt;NA&gt;</td>\n",
       "      <td>1.766667</td>\n",
       "      <td>10.14</td>\n",
       "    </tr>\n",
       "    <tr>\n",
       "      <th>1587</th>\n",
       "      <td>Growth</td>\n",
       "      <td>2024-01-11 09:47:00</td>\n",
       "      <td>8.75lbs.oz</td>\n",
       "      <td>54cm</td>\n",
       "      <td>13.8in</td>\n",
       "      <td>3.968930</td>\n",
       "      <td>54.0</td>\n",
       "      <td>35.052</td>\n",
       "      <td>1.300000</td>\n",
       "      <td>34.88</td>\n",
       "    </tr>\n",
       "    <tr>\n",
       "      <th>1777</th>\n",
       "      <td>Growth</td>\n",
       "      <td>2024-01-02 22:45:00</td>\n",
       "      <td>4kg</td>\n",
       "      <td>NaN</td>\n",
       "      <td>NaN</td>\n",
       "      <td>4.000000</td>\n",
       "      <td>&lt;NA&gt;</td>\n",
       "      <td>&lt;NA&gt;</td>\n",
       "      <td>1.000000</td>\n",
       "      <td>36.99</td>\n",
       "    </tr>\n",
       "    <tr>\n",
       "      <th>2067</th>\n",
       "      <td>Growth</td>\n",
       "      <td>2023-12-21 13:07:00</td>\n",
       "      <td>7.56lbs.oz</td>\n",
       "      <td>NaN</td>\n",
       "      <td>NaN</td>\n",
       "      <td>3.429156</td>\n",
       "      <td>&lt;NA&gt;</td>\n",
       "      <td>&lt;NA&gt;</td>\n",
       "      <td>0.600000</td>\n",
       "      <td>7.62</td>\n",
       "    </tr>\n",
       "    <tr>\n",
       "      <th>2138</th>\n",
       "      <td>Growth</td>\n",
       "      <td>2023-12-18 11:28:00</td>\n",
       "      <td>7.31lbs.oz</td>\n",
       "      <td>1.74ft.in</td>\n",
       "      <td>13.5cm</td>\n",
       "      <td>3.315758</td>\n",
       "      <td>53.0352</td>\n",
       "      <td>13.5</td>\n",
       "      <td>0.500000</td>\n",
       "      <td>57.18</td>\n",
       "    </tr>\n",
       "    <tr>\n",
       "      <th>2227</th>\n",
       "      <td>Growth</td>\n",
       "      <td>2023-12-15 11:10:00</td>\n",
       "      <td>3.22kg</td>\n",
       "      <td>NaN</td>\n",
       "      <td>NaN</td>\n",
       "      <td>3.220000</td>\n",
       "      <td>&lt;NA&gt;</td>\n",
       "      <td>&lt;NA&gt;</td>\n",
       "      <td>0.400000</td>\n",
       "      <td>48.94</td>\n",
       "    </tr>\n",
       "    <tr>\n",
       "      <th>2526</th>\n",
       "      <td>Growth</td>\n",
       "      <td>2023-12-03 13:11:00</td>\n",
       "      <td>6.99lbs.oz</td>\n",
       "      <td>1.75ft.in</td>\n",
       "      <td>NaN</td>\n",
       "      <td>3.170608</td>\n",
       "      <td>53.34</td>\n",
       "      <td>&lt;NA&gt;</td>\n",
       "      <td>0.000000</td>\n",
       "      <td>44.62</td>\n",
       "    </tr>\n",
       "  </tbody>\n",
       "</table>\n",
       "</div>"
      ],
      "text/plain": [
       "        Type                date       weight     height      hc  weight_kg  \\\n",
       "54    Growth 2024-03-08 16:23:00  11.51lbs.oz        NaN     NaN   5.220844   \n",
       "125   Growth 2024-03-06 01:23:00  11.44lbs.oz        NaN     NaN   5.189092   \n",
       "414   Growth 2024-02-24 15:10:00       4.99kg        NaN     NaN   4.990000   \n",
       "509   Growth 2024-02-21 07:01:00  10.84lbs.oz        NaN     NaN   4.916937   \n",
       "766   Growth 2024-02-12 08:24:00       4.66kg        NaN     NaN   4.660000   \n",
       "977   Growth 2024-02-05 15:59:00  10.13lbs.oz  1.87ft.in  14.5in   4.594887   \n",
       "1082  Growth 2024-02-02 13:54:00   9.81lbs.oz  1.88ft.in     NaN   4.449738   \n",
       "1263  Growth 2024-01-25 16:08:00       4.34kg        NaN     NaN   4.340000   \n",
       "1587  Growth 2024-01-11 09:47:00   8.75lbs.oz       54cm  13.8in   3.968930   \n",
       "1777  Growth 2024-01-02 22:45:00          4kg        NaN     NaN   4.000000   \n",
       "2067  Growth 2023-12-21 13:07:00   7.56lbs.oz        NaN     NaN   3.429156   \n",
       "2138  Growth 2023-12-18 11:28:00   7.31lbs.oz  1.74ft.in  13.5cm   3.315758   \n",
       "2227  Growth 2023-12-15 11:10:00       3.22kg        NaN     NaN   3.220000   \n",
       "2526  Growth 2023-12-03 13:11:00   6.99lbs.oz  1.75ft.in     NaN   3.170608   \n",
       "\n",
       "     height_cm   hc_cm    months  percentile  \n",
       "54        <NA>    <NA>  3.200000       18.57  \n",
       "125       <NA>    <NA>  3.133333       17.31  \n",
       "414       <NA>    <NA>  2.766667       10.56  \n",
       "509       <NA>    <NA>  2.666667        8.59  \n",
       "766       <NA>    <NA>  2.366667       23.18  \n",
       "977    56.9976   36.83  2.133333       20.04  \n",
       "1082   57.3024    <NA>  2.033333       13.91  \n",
       "1263      <NA>    <NA>  1.766667       10.14  \n",
       "1587      54.0  35.052  1.300000       34.88  \n",
       "1777      <NA>    <NA>  1.000000       36.99  \n",
       "2067      <NA>    <NA>  0.600000        7.62  \n",
       "2138   53.0352    13.5  0.500000       57.18  \n",
       "2227      <NA>    <NA>  0.400000       48.94  \n",
       "2526     53.34    <NA>  0.000000       44.62  "
      ]
     },
     "execution_count": 362,
     "metadata": {},
     "output_type": "execute_result"
    }
   ],
   "source": [
    "# def cleanup_weight(weight):\n",
    "#     if weight is None or pd.isna(weight):\n",
    "#         return np.nan\n",
    "#     if 'lb' in weight:\n",
    "#         # return lb_and_oz_to_kg(*map(float, weight.replace('lbs.oz','').split(\".\",1)))\n",
    "#         return lb_to_kg(float(weight.replace('lbs.oz', '')))\n",
    "#     else:\n",
    "#         return float(weight.replace('kg', ''))\n",
    "\n",
    "# nikki_df = (\n",
    "#     pd\n",
    "#     .read_csv('Nikki/22ef57f2-8b3a-4d7f-8e0a-f4f015100e40.csv')\n",
    "#     .query('Type  == \"Growth\"')\n",
    "#     .rename(columns={\n",
    "#         'Start': 'date', \n",
    "#         'Start Condition': 'weight',\n",
    "\n",
    "#         \"Start Location\": 'height',\n",
    "#         'End Condition': 'hc'\n",
    "#         })\n",
    "#     .dropna(axis=1, how='all')\n",
    "    \n",
    "#     )\n",
    "\n",
    "# nikki_df['date'] = pd.to_datetime(nikki_df['date'])\n",
    "# nikki_df['weight_kg'] = nikki_df['weight'].apply(cleanup_weight)\n",
    "\n",
    "\n",
    "# nikki_df\n",
    "\n",
    "nikki_df = huckleberry_reader('Nikki/22ef57f2-8b3a-4d7f-8e0a-f4f015100e40.csv')\n",
    "nikki_df['months'] = (nikki_df['date'] - niki.dob).dt.days / 30\n",
    "nikki_df['percentile'] = nikki_df.apply(lambda x: Zind(*get_LSM(df, round(x['months'],0)), x['weight_kg']).z_score_to_percentile(), axis=1).round(2)\n",
    "nikki_df\n",
    "\n"
   ]
  },
  {
   "cell_type": "code",
   "execution_count": 380,
   "metadata": {},
   "outputs": [
    {
     "name": "stdout",
     "output_type": "stream",
     "text": [
      "-0.13527151540037136 44.6198602734104\n",
      "3.1706080000000005\n"
     ]
    }
   ],
   "source": [
    "import numpy as np\n",
    "\n",
    "def C_alpha(M, L, S, zscore):\n",
    "  \"\"\"\n",
    "  This function implements the formula C(t) = M(t)[1 + L(t)S(t)Z_alpha]**(1/L(t))\n",
    "\n",
    "  Args:\n",
    "      t: Time variable.\n",
    "      M: Function of time t.\n",
    "      L: Function of time t.\n",
    "      S: Function of time t.\n",
    "      Z_alpha: Value between -3 and 3.\n",
    "\n",
    "  Returns:\n",
    "      The value of C(t).\n",
    "  \"\"\"\n",
    "\n",
    "  # Ensure Z_alpha is within the constraint\n",
    "  if zscore < -3 or zscore > 3:\n",
    "    raise ValueError(\"Z-score must be between -3 and 3\")\n",
    "\n",
    "  # Implement the formula\n",
    "  return M * (1 + L * S * zscore)**(1/L)\n",
    "\n",
    "\n",
    "L,M,S = [0.3809, 3.2322,  0.14171]\n",
    "z = Zind(L,M,S, 3.170608)\n",
    "print(z.zscore(), z.z_score_to_percentile())\n",
    "\n",
    "print(C_alpha(M, L, S, z.zscore()))\n",
    "\n"
   ]
  },
  {
   "cell_type": "code",
   "execution_count": 368,
   "metadata": {},
   "outputs": [
    {
     "name": "stdout",
     "output_type": "stream",
     "text": [
      "['#75b8ce', '#3885d0', '#4a4fa5', '#302e4a', '#1f1e1e', '#4a252e', '#932e44', '#d34936', '#f18f51']\n"
     ]
    }
   ],
   "source": [
    "import seaborn as sns\n",
    "# sns.color_palette(\"Spectral\", as_cmap=True)\n",
    "colors = sns.color_palette(\"icefire\",len(nums_col)).as_hex()\n",
    "\n",
    "print(colors)\n",
    "percentiles_to_color = dict(zip(nums_col, colors))\n"
   ]
  },
  {
   "cell_type": "code",
   "execution_count": 400,
   "metadata": {},
   "outputs": [
    {
     "data": {
      "text/plain": [
       "Decimal('3.17')"
      ]
     },
     "execution_count": 400,
     "metadata": {},
     "output_type": "execute_result"
    }
   ],
   "source": [
    "from decimal import Decimal as D\n",
    "D(3.170608).quantize(D('0.01'))"
   ]
  },
  {
   "cell_type": "code",
   "execution_count": 372,
   "metadata": {},
   "outputs": [
    {
     "data": {
      "application/vnd.plotly.v1+json": {
       "config": {
        "linkText": "Export to plot.ly",
        "plotlyServerURL": "https://plot.ly",
        "showLink": false
       },
       "data": [
        {
         "line": {
          "color": "#75b8ce",
          "dash": "solid",
          "shape": "linear",
          "width": 1
         },
         "mode": "lines",
         "name": "2th",
         "type": "scatter",
         "x": [
          0,
          1,
          2,
          3,
          4,
          5,
          6,
          7,
          8,
          9,
          10,
          11,
          12,
          13,
          14,
          15,
          16,
          17,
          18,
          19,
          20,
          21,
          22,
          23,
          24
         ],
         "y": [
          2.394672,
          3.161067,
          3.941053,
          4.53604,
          5.013368,
          5.403844,
          5.729383,
          6.008387,
          6.253445,
          6.472906,
          6.673828,
          6.862262,
          7.042612,
          7.217847,
          7.389684,
          7.559527,
          7.727588,
          7.894535,
          8.060311,
          8.224599,
          8.387882,
          8.55031,
          8.712397,
          8.8741,
          9.035869
         ]
        },
        {
         "line": {
          "color": "#3885d0",
          "dash": "solid",
          "shape": "linear",
          "width": 1
         },
         "mode": "lines",
         "name": "5th",
         "type": "scatter",
         "x": [
          0,
          1,
          2,
          3,
          4,
          5,
          6,
          7,
          8,
          9,
          10,
          11,
          12,
          13,
          14,
          15,
          16,
          17,
          18,
          19,
          20,
          21,
          22,
          23,
          24
         ],
         "y": [
          2.532145,
          3.326209,
          4.13172,
          4.745935,
          5.238858,
          5.642267,
          5.97888,
          6.267836,
          6.522061,
          6.750018,
          6.958886,
          7.15483,
          7.342376,
          7.524538,
          7.70313,
          7.879566,
          8.054179,
          8.227652,
          8.399952,
          8.570832,
          8.74076,
          8.909946,
          9.078906,
          9.247632,
          9.416516
         ]
        },
        {
         "line": {
          "color": "#4a4fa5",
          "dash": "solid",
          "shape": "linear",
          "width": 1
         },
         "mode": "lines",
         "name": "10th",
         "type": "scatter",
         "x": [
          0,
          1,
          2,
          3,
          4,
          5,
          6,
          7,
          8,
          9,
          10,
          11,
          12,
          13,
          14,
          15,
          16,
          17,
          18,
          19,
          20,
          21,
          22,
          23,
          24
         ],
         "y": [
          2.677725,
          3.502477,
          4.335355,
          4.970282,
          5.480078,
          5.897544,
          6.246243,
          6.546104,
          6.810403,
          7.047717,
          7.265345,
          7.46957,
          7.665043,
          7.854825,
          8.040838,
          8.224501,
          8.406286,
          8.586898,
          8.766325,
          8.944403,
          9.121584,
          9.298148,
          9.474611,
          9.651002,
          9.827655
         ]
        },
        {
         "line": {
          "color": "#302e4a",
          "dash": "solid",
          "shape": "linear",
          "width": 1
         },
         "mode": "lines",
         "name": "25th",
         "type": "scatter",
         "x": [
          0,
          1,
          2,
          3,
          4,
          5,
          6,
          7,
          8,
          9,
          10,
          11,
          12,
          13,
          14,
          15,
          16,
          17,
          18,
          19,
          20,
          21,
          22,
          23,
          24
         ],
         "y": [
          2.932331,
          3.814261,
          4.695944,
          5.368044,
          5.90832,
          6.351329,
          6.72212,
          7.042017,
          7.324907,
          7.579535,
          7.813398,
          8.032975,
          8.24313,
          8.446994,
          8.646697,
          8.843658,
          9.038616,
          9.232317,
          9.424795,
          9.616043,
          9.806487,
          9.996544,
          10.18672,
          10.37713,
          10.56799
         ]
        },
        {
         "line": {
          "color": "#1f1e1e",
          "dash": "solid",
          "shape": "linear",
          "width": 1
         },
         "mode": "lines",
         "name": "50th",
         "type": "scatter",
         "x": [
          0,
          1,
          2,
          3,
          4,
          5,
          6,
          7,
          8,
          9,
          10,
          11,
          12,
          13,
          14,
          15,
          16,
          17,
          18,
          19,
          20,
          21,
          22,
          23,
          24
         ],
         "y": [
          3.2322,
          4.1873,
          5.1282,
          5.8458,
          6.4237,
          6.8985,
          7.297,
          7.6422,
          7.9487,
          8.2254,
          8.48,
          8.7192,
          8.9481,
          9.1699,
          9.387,
          9.6008,
          9.8124,
          10.0226,
          10.2315,
          10.4393,
          10.6464,
          10.8534,
          11.0608,
          11.2688,
          11.4775
         ]
        },
        {
         "line": {
          "color": "#4a252e",
          "dash": "solid",
          "shape": "linear",
          "width": 1
         },
         "mode": "lines",
         "name": "75th",
         "type": "scatter",
         "x": [
          0,
          1,
          2,
          3,
          4,
          5,
          6,
          7,
          8,
          9,
          10,
          11,
          12,
          13,
          14,
          15,
          16,
          17,
          18,
          19,
          20,
          21,
          22,
          23,
          24
         ],
         "y": [
          3.55035,
          4.590075,
          5.596104,
          6.364222,
          6.984281,
          7.495018,
          7.925102,
          8.299352,
          8.633118,
          8.935413,
          9.214115,
          9.476145,
          9.726833,
          9.969431,
          10.20666,
          10.43988,
          10.67062,
          10.89976,
          11.12747,
          11.3542,
          11.58033,
          11.80669,
          12.03376,
          12.26184,
          12.49092
         ]
        },
        {
         "line": {
          "color": "#932e44",
          "dash": "solid",
          "shape": "linear",
          "width": 1
         },
         "mode": "lines",
         "name": "90th",
         "type": "scatter",
         "x": [
          0,
          1,
          2,
          3,
          4,
          5,
          6,
          7,
          8,
          9,
          10,
          11,
          12,
          13,
          14,
          15,
          16,
          17,
          18,
          19,
          20,
          21,
          22,
          23,
          24
         ],
         "y": [
          3.852667,
          4.979539,
          6.049862,
          6.868317,
          7.530756,
          8.077933,
          8.540297,
          8.94444,
          9.306424,
          9.63531,
          9.939115,
          10.22495,
          10.49835,
          10.76258,
          11.02071,
          11.27403,
          11.52454,
          11.77319,
          12.02024,
          12.26642,
          12.51209,
          12.75831,
          13.00554,
          13.25422,
          13.50419
         ]
        },
        {
         "line": {
          "color": "#d34936",
          "dash": "solid",
          "shape": "linear",
          "width": 1
         },
         "mode": "lines",
         "name": "95th",
         "type": "scatter",
         "x": [
          0,
          1,
          2,
          3,
          4,
          5,
          6,
          7,
          8,
          9,
          10,
          11,
          12,
          13,
          14,
          15,
          16,
          17,
          18,
          19,
          20,
          21,
          22,
          23,
          24
         ],
         "y": [
          4.040959,
          5.225436,
          6.337067,
          7.188096,
          7.87815,
          8.449225,
          8.93289,
          9.356859,
          9.737639,
          10.08429,
          10.4049,
          10.7067,
          10.99531,
          11.27401,
          11.54612,
          11.81285,
          12.07652,
          12.33814,
          12.59804,
          12.85712,
          13.11573,
          13.37511,
          13.6357,
          13.89801,
          14.16181
         ]
        },
        {
         "line": {
          "color": "#f18f51",
          "dash": "solid",
          "shape": "linear",
          "width": 1
         },
         "mode": "lines",
         "name": "98th",
         "type": "scatter",
         "x": [
          0,
          1,
          2,
          3,
          4,
          5,
          6,
          7,
          8,
          9,
          10,
          11,
          12,
          13,
          14,
          15,
          16,
          17,
          18,
          19,
          20,
          21,
          22,
          23,
          24
         ],
         "y": [
          4.23043022,
          5.4754539,
          6.62967897,
          7.51447955,
          8.23331075,
          8.82941522,
          9.33549062,
          9.78039888,
          10.1810939,
          10.5466186,
          10.8851054,
          11.2038881,
          11.5086985,
          11.8028109,
          12.0897773,
          12.3707367,
          12.6483665,
          12.9237235,
          13.1972107,
          13.4699234,
          13.7422028,
          14.0154884,
          14.2901756,
          14.5668755,
          14.8452857
         ]
        },
        {
         "marker": {
          "color": "red",
          "size": 5
         },
         "mode": "markers",
         "name": "Subject",
         "text": [
          "18.57%",
          "17.31%",
          "10.56%",
          "8.59%",
          "23.18%",
          "20.04%",
          "13.91%",
          "10.14%",
          "34.88%",
          "36.99%",
          "7.62%",
          "57.18%",
          "48.94%",
          "44.62%"
         ],
         "type": "scatter",
         "x": [
          3.2,
          3.1333333333333333,
          2.7666666666666666,
          2.6666666666666665,
          2.3666666666666667,
          2.1333333333333333,
          2.033333333333333,
          1.7666666666666666,
          1.3,
          1,
          0.6,
          0.5,
          0.4,
          0
         ],
         "y": [
          5.22084392,
          5.189092479999999,
          4.99,
          4.91693728,
          4.66,
          4.59488696,
          4.44973752,
          4.34,
          3.96893,
          4,
          3.4291555199999997,
          3.3157575199999996,
          3.22,
          3.17060808
         ]
        }
       ],
       "layout": {
        "template": {
         "data": {
          "bar": [
           {
            "error_x": {
             "color": "#2a3f5f"
            },
            "error_y": {
             "color": "#2a3f5f"
            },
            "marker": {
             "line": {
              "color": "#E5ECF6",
              "width": 0.5
             },
             "pattern": {
              "fillmode": "overlay",
              "size": 10,
              "solidity": 0.2
             }
            },
            "type": "bar"
           }
          ],
          "barpolar": [
           {
            "marker": {
             "line": {
              "color": "#E5ECF6",
              "width": 0.5
             },
             "pattern": {
              "fillmode": "overlay",
              "size": 10,
              "solidity": 0.2
             }
            },
            "type": "barpolar"
           }
          ],
          "carpet": [
           {
            "aaxis": {
             "endlinecolor": "#2a3f5f",
             "gridcolor": "white",
             "linecolor": "white",
             "minorgridcolor": "white",
             "startlinecolor": "#2a3f5f"
            },
            "baxis": {
             "endlinecolor": "#2a3f5f",
             "gridcolor": "white",
             "linecolor": "white",
             "minorgridcolor": "white",
             "startlinecolor": "#2a3f5f"
            },
            "type": "carpet"
           }
          ],
          "choropleth": [
           {
            "colorbar": {
             "outlinewidth": 0,
             "ticks": ""
            },
            "type": "choropleth"
           }
          ],
          "contour": [
           {
            "colorbar": {
             "outlinewidth": 0,
             "ticks": ""
            },
            "colorscale": [
             [
              0,
              "#0d0887"
             ],
             [
              0.1111111111111111,
              "#46039f"
             ],
             [
              0.2222222222222222,
              "#7201a8"
             ],
             [
              0.3333333333333333,
              "#9c179e"
             ],
             [
              0.4444444444444444,
              "#bd3786"
             ],
             [
              0.5555555555555556,
              "#d8576b"
             ],
             [
              0.6666666666666666,
              "#ed7953"
             ],
             [
              0.7777777777777778,
              "#fb9f3a"
             ],
             [
              0.8888888888888888,
              "#fdca26"
             ],
             [
              1,
              "#f0f921"
             ]
            ],
            "type": "contour"
           }
          ],
          "contourcarpet": [
           {
            "colorbar": {
             "outlinewidth": 0,
             "ticks": ""
            },
            "type": "contourcarpet"
           }
          ],
          "heatmap": [
           {
            "colorbar": {
             "outlinewidth": 0,
             "ticks": ""
            },
            "colorscale": [
             [
              0,
              "#0d0887"
             ],
             [
              0.1111111111111111,
              "#46039f"
             ],
             [
              0.2222222222222222,
              "#7201a8"
             ],
             [
              0.3333333333333333,
              "#9c179e"
             ],
             [
              0.4444444444444444,
              "#bd3786"
             ],
             [
              0.5555555555555556,
              "#d8576b"
             ],
             [
              0.6666666666666666,
              "#ed7953"
             ],
             [
              0.7777777777777778,
              "#fb9f3a"
             ],
             [
              0.8888888888888888,
              "#fdca26"
             ],
             [
              1,
              "#f0f921"
             ]
            ],
            "type": "heatmap"
           }
          ],
          "heatmapgl": [
           {
            "colorbar": {
             "outlinewidth": 0,
             "ticks": ""
            },
            "colorscale": [
             [
              0,
              "#0d0887"
             ],
             [
              0.1111111111111111,
              "#46039f"
             ],
             [
              0.2222222222222222,
              "#7201a8"
             ],
             [
              0.3333333333333333,
              "#9c179e"
             ],
             [
              0.4444444444444444,
              "#bd3786"
             ],
             [
              0.5555555555555556,
              "#d8576b"
             ],
             [
              0.6666666666666666,
              "#ed7953"
             ],
             [
              0.7777777777777778,
              "#fb9f3a"
             ],
             [
              0.8888888888888888,
              "#fdca26"
             ],
             [
              1,
              "#f0f921"
             ]
            ],
            "type": "heatmapgl"
           }
          ],
          "histogram": [
           {
            "marker": {
             "pattern": {
              "fillmode": "overlay",
              "size": 10,
              "solidity": 0.2
             }
            },
            "type": "histogram"
           }
          ],
          "histogram2d": [
           {
            "colorbar": {
             "outlinewidth": 0,
             "ticks": ""
            },
            "colorscale": [
             [
              0,
              "#0d0887"
             ],
             [
              0.1111111111111111,
              "#46039f"
             ],
             [
              0.2222222222222222,
              "#7201a8"
             ],
             [
              0.3333333333333333,
              "#9c179e"
             ],
             [
              0.4444444444444444,
              "#bd3786"
             ],
             [
              0.5555555555555556,
              "#d8576b"
             ],
             [
              0.6666666666666666,
              "#ed7953"
             ],
             [
              0.7777777777777778,
              "#fb9f3a"
             ],
             [
              0.8888888888888888,
              "#fdca26"
             ],
             [
              1,
              "#f0f921"
             ]
            ],
            "type": "histogram2d"
           }
          ],
          "histogram2dcontour": [
           {
            "colorbar": {
             "outlinewidth": 0,
             "ticks": ""
            },
            "colorscale": [
             [
              0,
              "#0d0887"
             ],
             [
              0.1111111111111111,
              "#46039f"
             ],
             [
              0.2222222222222222,
              "#7201a8"
             ],
             [
              0.3333333333333333,
              "#9c179e"
             ],
             [
              0.4444444444444444,
              "#bd3786"
             ],
             [
              0.5555555555555556,
              "#d8576b"
             ],
             [
              0.6666666666666666,
              "#ed7953"
             ],
             [
              0.7777777777777778,
              "#fb9f3a"
             ],
             [
              0.8888888888888888,
              "#fdca26"
             ],
             [
              1,
              "#f0f921"
             ]
            ],
            "type": "histogram2dcontour"
           }
          ],
          "mesh3d": [
           {
            "colorbar": {
             "outlinewidth": 0,
             "ticks": ""
            },
            "type": "mesh3d"
           }
          ],
          "parcoords": [
           {
            "line": {
             "colorbar": {
              "outlinewidth": 0,
              "ticks": ""
             }
            },
            "type": "parcoords"
           }
          ],
          "pie": [
           {
            "automargin": true,
            "type": "pie"
           }
          ],
          "scatter": [
           {
            "fillpattern": {
             "fillmode": "overlay",
             "size": 10,
             "solidity": 0.2
            },
            "type": "scatter"
           }
          ],
          "scatter3d": [
           {
            "line": {
             "colorbar": {
              "outlinewidth": 0,
              "ticks": ""
             }
            },
            "marker": {
             "colorbar": {
              "outlinewidth": 0,
              "ticks": ""
             }
            },
            "type": "scatter3d"
           }
          ],
          "scattercarpet": [
           {
            "marker": {
             "colorbar": {
              "outlinewidth": 0,
              "ticks": ""
             }
            },
            "type": "scattercarpet"
           }
          ],
          "scattergeo": [
           {
            "marker": {
             "colorbar": {
              "outlinewidth": 0,
              "ticks": ""
             }
            },
            "type": "scattergeo"
           }
          ],
          "scattergl": [
           {
            "marker": {
             "colorbar": {
              "outlinewidth": 0,
              "ticks": ""
             }
            },
            "type": "scattergl"
           }
          ],
          "scattermapbox": [
           {
            "marker": {
             "colorbar": {
              "outlinewidth": 0,
              "ticks": ""
             }
            },
            "type": "scattermapbox"
           }
          ],
          "scatterpolar": [
           {
            "marker": {
             "colorbar": {
              "outlinewidth": 0,
              "ticks": ""
             }
            },
            "type": "scatterpolar"
           }
          ],
          "scatterpolargl": [
           {
            "marker": {
             "colorbar": {
              "outlinewidth": 0,
              "ticks": ""
             }
            },
            "type": "scatterpolargl"
           }
          ],
          "scatterternary": [
           {
            "marker": {
             "colorbar": {
              "outlinewidth": 0,
              "ticks": ""
             }
            },
            "type": "scatterternary"
           }
          ],
          "surface": [
           {
            "colorbar": {
             "outlinewidth": 0,
             "ticks": ""
            },
            "colorscale": [
             [
              0,
              "#0d0887"
             ],
             [
              0.1111111111111111,
              "#46039f"
             ],
             [
              0.2222222222222222,
              "#7201a8"
             ],
             [
              0.3333333333333333,
              "#9c179e"
             ],
             [
              0.4444444444444444,
              "#bd3786"
             ],
             [
              0.5555555555555556,
              "#d8576b"
             ],
             [
              0.6666666666666666,
              "#ed7953"
             ],
             [
              0.7777777777777778,
              "#fb9f3a"
             ],
             [
              0.8888888888888888,
              "#fdca26"
             ],
             [
              1,
              "#f0f921"
             ]
            ],
            "type": "surface"
           }
          ],
          "table": [
           {
            "cells": {
             "fill": {
              "color": "#EBF0F8"
             },
             "line": {
              "color": "white"
             }
            },
            "header": {
             "fill": {
              "color": "#C8D4E3"
             },
             "line": {
              "color": "white"
             }
            },
            "type": "table"
           }
          ]
         },
         "layout": {
          "annotationdefaults": {
           "arrowcolor": "#2a3f5f",
           "arrowhead": 0,
           "arrowwidth": 1
          },
          "autotypenumbers": "strict",
          "coloraxis": {
           "colorbar": {
            "outlinewidth": 0,
            "ticks": ""
           }
          },
          "colorscale": {
           "diverging": [
            [
             0,
             "#8e0152"
            ],
            [
             0.1,
             "#c51b7d"
            ],
            [
             0.2,
             "#de77ae"
            ],
            [
             0.3,
             "#f1b6da"
            ],
            [
             0.4,
             "#fde0ef"
            ],
            [
             0.5,
             "#f7f7f7"
            ],
            [
             0.6,
             "#e6f5d0"
            ],
            [
             0.7,
             "#b8e186"
            ],
            [
             0.8,
             "#7fbc41"
            ],
            [
             0.9,
             "#4d9221"
            ],
            [
             1,
             "#276419"
            ]
           ],
           "sequential": [
            [
             0,
             "#0d0887"
            ],
            [
             0.1111111111111111,
             "#46039f"
            ],
            [
             0.2222222222222222,
             "#7201a8"
            ],
            [
             0.3333333333333333,
             "#9c179e"
            ],
            [
             0.4444444444444444,
             "#bd3786"
            ],
            [
             0.5555555555555556,
             "#d8576b"
            ],
            [
             0.6666666666666666,
             "#ed7953"
            ],
            [
             0.7777777777777778,
             "#fb9f3a"
            ],
            [
             0.8888888888888888,
             "#fdca26"
            ],
            [
             1,
             "#f0f921"
            ]
           ],
           "sequentialminus": [
            [
             0,
             "#0d0887"
            ],
            [
             0.1111111111111111,
             "#46039f"
            ],
            [
             0.2222222222222222,
             "#7201a8"
            ],
            [
             0.3333333333333333,
             "#9c179e"
            ],
            [
             0.4444444444444444,
             "#bd3786"
            ],
            [
             0.5555555555555556,
             "#d8576b"
            ],
            [
             0.6666666666666666,
             "#ed7953"
            ],
            [
             0.7777777777777778,
             "#fb9f3a"
            ],
            [
             0.8888888888888888,
             "#fdca26"
            ],
            [
             1,
             "#f0f921"
            ]
           ]
          },
          "colorway": [
           "#636efa",
           "#EF553B",
           "#00cc96",
           "#ab63fa",
           "#FFA15A",
           "#19d3f3",
           "#FF6692",
           "#B6E880",
           "#FF97FF",
           "#FECB52"
          ],
          "font": {
           "color": "#2a3f5f"
          },
          "geo": {
           "bgcolor": "white",
           "lakecolor": "white",
           "landcolor": "#E5ECF6",
           "showlakes": true,
           "showland": true,
           "subunitcolor": "white"
          },
          "hoverlabel": {
           "align": "left"
          },
          "hovermode": "closest",
          "mapbox": {
           "style": "light"
          },
          "paper_bgcolor": "white",
          "plot_bgcolor": "#E5ECF6",
          "polar": {
           "angularaxis": {
            "gridcolor": "white",
            "linecolor": "white",
            "ticks": ""
           },
           "bgcolor": "#E5ECF6",
           "radialaxis": {
            "gridcolor": "white",
            "linecolor": "white",
            "ticks": ""
           }
          },
          "scene": {
           "xaxis": {
            "backgroundcolor": "#E5ECF6",
            "gridcolor": "white",
            "gridwidth": 2,
            "linecolor": "white",
            "showbackground": true,
            "ticks": "",
            "zerolinecolor": "white"
           },
           "yaxis": {
            "backgroundcolor": "#E5ECF6",
            "gridcolor": "white",
            "gridwidth": 2,
            "linecolor": "white",
            "showbackground": true,
            "ticks": "",
            "zerolinecolor": "white"
           },
           "zaxis": {
            "backgroundcolor": "#E5ECF6",
            "gridcolor": "white",
            "gridwidth": 2,
            "linecolor": "white",
            "showbackground": true,
            "ticks": "",
            "zerolinecolor": "white"
           }
          },
          "shapedefaults": {
           "line": {
            "color": "#2a3f5f"
           }
          },
          "ternary": {
           "aaxis": {
            "gridcolor": "white",
            "linecolor": "white",
            "ticks": ""
           },
           "baxis": {
            "gridcolor": "white",
            "linecolor": "white",
            "ticks": ""
           },
           "bgcolor": "#E5ECF6",
           "caxis": {
            "gridcolor": "white",
            "linecolor": "white",
            "ticks": ""
           }
          },
          "title": {
           "x": 0.05
          },
          "xaxis": {
           "automargin": true,
           "gridcolor": "white",
           "linecolor": "white",
           "ticks": "",
           "title": {
            "standoff": 15
           },
           "zerolinecolor": "white",
           "zerolinewidth": 2
          },
          "yaxis": {
           "automargin": true,
           "gridcolor": "white",
           "linecolor": "white",
           "ticks": "",
           "title": {
            "standoff": 15
           },
           "zerolinecolor": "white",
           "zerolinewidth": 2
          }
         }
        }
       }
      },
      "text/html": [
       "<div>                            <div id=\"2cb3fff2-4777-4259-b784-5c4e52ff85ca\" class=\"plotly-graph-div\" style=\"height:525px; width:100%;\"></div>            <script type=\"text/javascript\">                require([\"plotly\"], function(Plotly) {                    window.PLOTLYENV=window.PLOTLYENV || {};                                    if (document.getElementById(\"2cb3fff2-4777-4259-b784-5c4e52ff85ca\")) {                    Plotly.newPlot(                        \"2cb3fff2-4777-4259-b784-5c4e52ff85ca\",                        [{\"line\":{\"color\":\"#75b8ce\",\"dash\":\"solid\",\"shape\":\"linear\",\"width\":1},\"mode\":\"lines\",\"name\":\"2th\",\"x\":[0,1,2,3,4,5,6,7,8,9,10,11,12,13,14,15,16,17,18,19,20,21,22,23,24],\"y\":[2.394672,3.161067,3.941053,4.53604,5.013368,5.403844,5.729383,6.008387,6.253445,6.472906,6.673828,6.862262,7.042612,7.217847,7.389684,7.559527,7.727588,7.894535,8.060311,8.224599,8.387882,8.55031,8.712397,8.8741,9.035869],\"type\":\"scatter\"},{\"line\":{\"color\":\"#3885d0\",\"dash\":\"solid\",\"shape\":\"linear\",\"width\":1},\"mode\":\"lines\",\"name\":\"5th\",\"x\":[0,1,2,3,4,5,6,7,8,9,10,11,12,13,14,15,16,17,18,19,20,21,22,23,24],\"y\":[2.532145,3.326209,4.13172,4.745935,5.238858,5.642267,5.97888,6.267836,6.522061,6.750018,6.958886,7.15483,7.342376,7.524538,7.70313,7.879566,8.054179,8.227652,8.399952,8.570832,8.74076,8.909946,9.078906,9.247632,9.416516],\"type\":\"scatter\"},{\"line\":{\"color\":\"#4a4fa5\",\"dash\":\"solid\",\"shape\":\"linear\",\"width\":1},\"mode\":\"lines\",\"name\":\"10th\",\"x\":[0,1,2,3,4,5,6,7,8,9,10,11,12,13,14,15,16,17,18,19,20,21,22,23,24],\"y\":[2.677725,3.502477,4.335355,4.970282,5.480078,5.897544,6.246243,6.546104,6.810403,7.047717,7.265345,7.46957,7.665043,7.854825,8.040838,8.224501,8.406286,8.586898,8.766325,8.944403,9.121584,9.298148,9.474611,9.651002,9.827655],\"type\":\"scatter\"},{\"line\":{\"color\":\"#302e4a\",\"dash\":\"solid\",\"shape\":\"linear\",\"width\":1},\"mode\":\"lines\",\"name\":\"25th\",\"x\":[0,1,2,3,4,5,6,7,8,9,10,11,12,13,14,15,16,17,18,19,20,21,22,23,24],\"y\":[2.932331,3.814261,4.695944,5.368044,5.90832,6.351329,6.72212,7.042017,7.324907,7.579535,7.813398,8.032975,8.24313,8.446994,8.646697,8.843658,9.038616,9.232317,9.424795,9.616043,9.806487,9.996544,10.18672,10.37713,10.56799],\"type\":\"scatter\"},{\"line\":{\"color\":\"#1f1e1e\",\"dash\":\"solid\",\"shape\":\"linear\",\"width\":1},\"mode\":\"lines\",\"name\":\"50th\",\"x\":[0,1,2,3,4,5,6,7,8,9,10,11,12,13,14,15,16,17,18,19,20,21,22,23,24],\"y\":[3.2322,4.1873,5.1282,5.8458,6.4237,6.8985,7.297,7.6422,7.9487,8.2254,8.48,8.7192,8.9481,9.1699,9.387,9.6008,9.8124,10.0226,10.2315,10.4393,10.6464,10.8534,11.0608,11.2688,11.4775],\"type\":\"scatter\"},{\"line\":{\"color\":\"#4a252e\",\"dash\":\"solid\",\"shape\":\"linear\",\"width\":1},\"mode\":\"lines\",\"name\":\"75th\",\"x\":[0,1,2,3,4,5,6,7,8,9,10,11,12,13,14,15,16,17,18,19,20,21,22,23,24],\"y\":[3.55035,4.590075,5.596104,6.364222,6.984281,7.495018,7.925102,8.299352,8.633118,8.935413,9.214115,9.476145,9.726833,9.969431,10.20666,10.43988,10.67062,10.89976,11.12747,11.3542,11.58033,11.80669,12.03376,12.26184,12.49092],\"type\":\"scatter\"},{\"line\":{\"color\":\"#932e44\",\"dash\":\"solid\",\"shape\":\"linear\",\"width\":1},\"mode\":\"lines\",\"name\":\"90th\",\"x\":[0,1,2,3,4,5,6,7,8,9,10,11,12,13,14,15,16,17,18,19,20,21,22,23,24],\"y\":[3.852667,4.979539,6.049862,6.868317,7.530756,8.077933,8.540297,8.94444,9.306424,9.63531,9.939115,10.22495,10.49835,10.76258,11.02071,11.27403,11.52454,11.77319,12.02024,12.26642,12.51209,12.75831,13.00554,13.25422,13.50419],\"type\":\"scatter\"},{\"line\":{\"color\":\"#d34936\",\"dash\":\"solid\",\"shape\":\"linear\",\"width\":1},\"mode\":\"lines\",\"name\":\"95th\",\"x\":[0,1,2,3,4,5,6,7,8,9,10,11,12,13,14,15,16,17,18,19,20,21,22,23,24],\"y\":[4.040959,5.225436,6.337067,7.188096,7.87815,8.449225,8.93289,9.356859,9.737639,10.08429,10.4049,10.7067,10.99531,11.27401,11.54612,11.81285,12.07652,12.33814,12.59804,12.85712,13.11573,13.37511,13.6357,13.89801,14.16181],\"type\":\"scatter\"},{\"line\":{\"color\":\"#f18f51\",\"dash\":\"solid\",\"shape\":\"linear\",\"width\":1},\"mode\":\"lines\",\"name\":\"98th\",\"x\":[0,1,2,3,4,5,6,7,8,9,10,11,12,13,14,15,16,17,18,19,20,21,22,23,24],\"y\":[4.23043022,5.4754539,6.62967897,7.51447955,8.23331075,8.82941522,9.33549062,9.78039888,10.1810939,10.5466186,10.8851054,11.2038881,11.5086985,11.8028109,12.0897773,12.3707367,12.6483665,12.9237235,13.1972107,13.4699234,13.7422028,14.0154884,14.2901756,14.5668755,14.8452857],\"type\":\"scatter\"},{\"marker\":{\"color\":\"red\",\"size\":5},\"mode\":\"markers\",\"name\":\"Subject\",\"text\":[\"18.57%\",\"17.31%\",\"10.56%\",\"8.59%\",\"23.18%\",\"20.04%\",\"13.91%\",\"10.14%\",\"34.88%\",\"36.99%\",\"7.62%\",\"57.18%\",\"48.94%\",\"44.62%\"],\"x\":[3.2,3.1333333333333333,2.7666666666666666,2.6666666666666665,2.3666666666666667,2.1333333333333333,2.033333333333333,1.7666666666666666,1.3,1.0,0.6,0.5,0.4,0.0],\"y\":[5.22084392,5.189092479999999,4.99,4.91693728,4.66,4.59488696,4.44973752,4.34,3.96893,4.0,3.4291555199999997,3.3157575199999996,3.22,3.17060808],\"type\":\"scatter\"}],                        {\"template\":{\"data\":{\"barpolar\":[{\"marker\":{\"line\":{\"color\":\"#E5ECF6\",\"width\":0.5},\"pattern\":{\"fillmode\":\"overlay\",\"size\":10,\"solidity\":0.2}},\"type\":\"barpolar\"}],\"bar\":[{\"error_x\":{\"color\":\"#2a3f5f\"},\"error_y\":{\"color\":\"#2a3f5f\"},\"marker\":{\"line\":{\"color\":\"#E5ECF6\",\"width\":0.5},\"pattern\":{\"fillmode\":\"overlay\",\"size\":10,\"solidity\":0.2}},\"type\":\"bar\"}],\"carpet\":[{\"aaxis\":{\"endlinecolor\":\"#2a3f5f\",\"gridcolor\":\"white\",\"linecolor\":\"white\",\"minorgridcolor\":\"white\",\"startlinecolor\":\"#2a3f5f\"},\"baxis\":{\"endlinecolor\":\"#2a3f5f\",\"gridcolor\":\"white\",\"linecolor\":\"white\",\"minorgridcolor\":\"white\",\"startlinecolor\":\"#2a3f5f\"},\"type\":\"carpet\"}],\"choropleth\":[{\"colorbar\":{\"outlinewidth\":0,\"ticks\":\"\"},\"type\":\"choropleth\"}],\"contourcarpet\":[{\"colorbar\":{\"outlinewidth\":0,\"ticks\":\"\"},\"type\":\"contourcarpet\"}],\"contour\":[{\"colorbar\":{\"outlinewidth\":0,\"ticks\":\"\"},\"colorscale\":[[0.0,\"#0d0887\"],[0.1111111111111111,\"#46039f\"],[0.2222222222222222,\"#7201a8\"],[0.3333333333333333,\"#9c179e\"],[0.4444444444444444,\"#bd3786\"],[0.5555555555555556,\"#d8576b\"],[0.6666666666666666,\"#ed7953\"],[0.7777777777777778,\"#fb9f3a\"],[0.8888888888888888,\"#fdca26\"],[1.0,\"#f0f921\"]],\"type\":\"contour\"}],\"heatmapgl\":[{\"colorbar\":{\"outlinewidth\":0,\"ticks\":\"\"},\"colorscale\":[[0.0,\"#0d0887\"],[0.1111111111111111,\"#46039f\"],[0.2222222222222222,\"#7201a8\"],[0.3333333333333333,\"#9c179e\"],[0.4444444444444444,\"#bd3786\"],[0.5555555555555556,\"#d8576b\"],[0.6666666666666666,\"#ed7953\"],[0.7777777777777778,\"#fb9f3a\"],[0.8888888888888888,\"#fdca26\"],[1.0,\"#f0f921\"]],\"type\":\"heatmapgl\"}],\"heatmap\":[{\"colorbar\":{\"outlinewidth\":0,\"ticks\":\"\"},\"colorscale\":[[0.0,\"#0d0887\"],[0.1111111111111111,\"#46039f\"],[0.2222222222222222,\"#7201a8\"],[0.3333333333333333,\"#9c179e\"],[0.4444444444444444,\"#bd3786\"],[0.5555555555555556,\"#d8576b\"],[0.6666666666666666,\"#ed7953\"],[0.7777777777777778,\"#fb9f3a\"],[0.8888888888888888,\"#fdca26\"],[1.0,\"#f0f921\"]],\"type\":\"heatmap\"}],\"histogram2dcontour\":[{\"colorbar\":{\"outlinewidth\":0,\"ticks\":\"\"},\"colorscale\":[[0.0,\"#0d0887\"],[0.1111111111111111,\"#46039f\"],[0.2222222222222222,\"#7201a8\"],[0.3333333333333333,\"#9c179e\"],[0.4444444444444444,\"#bd3786\"],[0.5555555555555556,\"#d8576b\"],[0.6666666666666666,\"#ed7953\"],[0.7777777777777778,\"#fb9f3a\"],[0.8888888888888888,\"#fdca26\"],[1.0,\"#f0f921\"]],\"type\":\"histogram2dcontour\"}],\"histogram2d\":[{\"colorbar\":{\"outlinewidth\":0,\"ticks\":\"\"},\"colorscale\":[[0.0,\"#0d0887\"],[0.1111111111111111,\"#46039f\"],[0.2222222222222222,\"#7201a8\"],[0.3333333333333333,\"#9c179e\"],[0.4444444444444444,\"#bd3786\"],[0.5555555555555556,\"#d8576b\"],[0.6666666666666666,\"#ed7953\"],[0.7777777777777778,\"#fb9f3a\"],[0.8888888888888888,\"#fdca26\"],[1.0,\"#f0f921\"]],\"type\":\"histogram2d\"}],\"histogram\":[{\"marker\":{\"pattern\":{\"fillmode\":\"overlay\",\"size\":10,\"solidity\":0.2}},\"type\":\"histogram\"}],\"mesh3d\":[{\"colorbar\":{\"outlinewidth\":0,\"ticks\":\"\"},\"type\":\"mesh3d\"}],\"parcoords\":[{\"line\":{\"colorbar\":{\"outlinewidth\":0,\"ticks\":\"\"}},\"type\":\"parcoords\"}],\"pie\":[{\"automargin\":true,\"type\":\"pie\"}],\"scatter3d\":[{\"line\":{\"colorbar\":{\"outlinewidth\":0,\"ticks\":\"\"}},\"marker\":{\"colorbar\":{\"outlinewidth\":0,\"ticks\":\"\"}},\"type\":\"scatter3d\"}],\"scattercarpet\":[{\"marker\":{\"colorbar\":{\"outlinewidth\":0,\"ticks\":\"\"}},\"type\":\"scattercarpet\"}],\"scattergeo\":[{\"marker\":{\"colorbar\":{\"outlinewidth\":0,\"ticks\":\"\"}},\"type\":\"scattergeo\"}],\"scattergl\":[{\"marker\":{\"colorbar\":{\"outlinewidth\":0,\"ticks\":\"\"}},\"type\":\"scattergl\"}],\"scattermapbox\":[{\"marker\":{\"colorbar\":{\"outlinewidth\":0,\"ticks\":\"\"}},\"type\":\"scattermapbox\"}],\"scatterpolargl\":[{\"marker\":{\"colorbar\":{\"outlinewidth\":0,\"ticks\":\"\"}},\"type\":\"scatterpolargl\"}],\"scatterpolar\":[{\"marker\":{\"colorbar\":{\"outlinewidth\":0,\"ticks\":\"\"}},\"type\":\"scatterpolar\"}],\"scatter\":[{\"fillpattern\":{\"fillmode\":\"overlay\",\"size\":10,\"solidity\":0.2},\"type\":\"scatter\"}],\"scatterternary\":[{\"marker\":{\"colorbar\":{\"outlinewidth\":0,\"ticks\":\"\"}},\"type\":\"scatterternary\"}],\"surface\":[{\"colorbar\":{\"outlinewidth\":0,\"ticks\":\"\"},\"colorscale\":[[0.0,\"#0d0887\"],[0.1111111111111111,\"#46039f\"],[0.2222222222222222,\"#7201a8\"],[0.3333333333333333,\"#9c179e\"],[0.4444444444444444,\"#bd3786\"],[0.5555555555555556,\"#d8576b\"],[0.6666666666666666,\"#ed7953\"],[0.7777777777777778,\"#fb9f3a\"],[0.8888888888888888,\"#fdca26\"],[1.0,\"#f0f921\"]],\"type\":\"surface\"}],\"table\":[{\"cells\":{\"fill\":{\"color\":\"#EBF0F8\"},\"line\":{\"color\":\"white\"}},\"header\":{\"fill\":{\"color\":\"#C8D4E3\"},\"line\":{\"color\":\"white\"}},\"type\":\"table\"}]},\"layout\":{\"annotationdefaults\":{\"arrowcolor\":\"#2a3f5f\",\"arrowhead\":0,\"arrowwidth\":1},\"autotypenumbers\":\"strict\",\"coloraxis\":{\"colorbar\":{\"outlinewidth\":0,\"ticks\":\"\"}},\"colorscale\":{\"diverging\":[[0,\"#8e0152\"],[0.1,\"#c51b7d\"],[0.2,\"#de77ae\"],[0.3,\"#f1b6da\"],[0.4,\"#fde0ef\"],[0.5,\"#f7f7f7\"],[0.6,\"#e6f5d0\"],[0.7,\"#b8e186\"],[0.8,\"#7fbc41\"],[0.9,\"#4d9221\"],[1,\"#276419\"]],\"sequential\":[[0.0,\"#0d0887\"],[0.1111111111111111,\"#46039f\"],[0.2222222222222222,\"#7201a8\"],[0.3333333333333333,\"#9c179e\"],[0.4444444444444444,\"#bd3786\"],[0.5555555555555556,\"#d8576b\"],[0.6666666666666666,\"#ed7953\"],[0.7777777777777778,\"#fb9f3a\"],[0.8888888888888888,\"#fdca26\"],[1.0,\"#f0f921\"]],\"sequentialminus\":[[0.0,\"#0d0887\"],[0.1111111111111111,\"#46039f\"],[0.2222222222222222,\"#7201a8\"],[0.3333333333333333,\"#9c179e\"],[0.4444444444444444,\"#bd3786\"],[0.5555555555555556,\"#d8576b\"],[0.6666666666666666,\"#ed7953\"],[0.7777777777777778,\"#fb9f3a\"],[0.8888888888888888,\"#fdca26\"],[1.0,\"#f0f921\"]]},\"colorway\":[\"#636efa\",\"#EF553B\",\"#00cc96\",\"#ab63fa\",\"#FFA15A\",\"#19d3f3\",\"#FF6692\",\"#B6E880\",\"#FF97FF\",\"#FECB52\"],\"font\":{\"color\":\"#2a3f5f\"},\"geo\":{\"bgcolor\":\"white\",\"lakecolor\":\"white\",\"landcolor\":\"#E5ECF6\",\"showlakes\":true,\"showland\":true,\"subunitcolor\":\"white\"},\"hoverlabel\":{\"align\":\"left\"},\"hovermode\":\"closest\",\"mapbox\":{\"style\":\"light\"},\"paper_bgcolor\":\"white\",\"plot_bgcolor\":\"#E5ECF6\",\"polar\":{\"angularaxis\":{\"gridcolor\":\"white\",\"linecolor\":\"white\",\"ticks\":\"\"},\"bgcolor\":\"#E5ECF6\",\"radialaxis\":{\"gridcolor\":\"white\",\"linecolor\":\"white\",\"ticks\":\"\"}},\"scene\":{\"xaxis\":{\"backgroundcolor\":\"#E5ECF6\",\"gridcolor\":\"white\",\"gridwidth\":2,\"linecolor\":\"white\",\"showbackground\":true,\"ticks\":\"\",\"zerolinecolor\":\"white\"},\"yaxis\":{\"backgroundcolor\":\"#E5ECF6\",\"gridcolor\":\"white\",\"gridwidth\":2,\"linecolor\":\"white\",\"showbackground\":true,\"ticks\":\"\",\"zerolinecolor\":\"white\"},\"zaxis\":{\"backgroundcolor\":\"#E5ECF6\",\"gridcolor\":\"white\",\"gridwidth\":2,\"linecolor\":\"white\",\"showbackground\":true,\"ticks\":\"\",\"zerolinecolor\":\"white\"}},\"shapedefaults\":{\"line\":{\"color\":\"#2a3f5f\"}},\"ternary\":{\"aaxis\":{\"gridcolor\":\"white\",\"linecolor\":\"white\",\"ticks\":\"\"},\"baxis\":{\"gridcolor\":\"white\",\"linecolor\":\"white\",\"ticks\":\"\"},\"bgcolor\":\"#E5ECF6\",\"caxis\":{\"gridcolor\":\"white\",\"linecolor\":\"white\",\"ticks\":\"\"}},\"title\":{\"x\":0.05},\"xaxis\":{\"automargin\":true,\"gridcolor\":\"white\",\"linecolor\":\"white\",\"ticks\":\"\",\"title\":{\"standoff\":15},\"zerolinecolor\":\"white\",\"zerolinewidth\":2},\"yaxis\":{\"automargin\":true,\"gridcolor\":\"white\",\"linecolor\":\"white\",\"ticks\":\"\",\"title\":{\"standoff\":15},\"zerolinecolor\":\"white\",\"zerolinewidth\":2}}}},                        {\"responsive\": true}                    ).then(function(){\n",
       "                            \n",
       "var gd = document.getElementById('2cb3fff2-4777-4259-b784-5c4e52ff85ca');\n",
       "var x = new MutationObserver(function (mutations, observer) {{\n",
       "        var display = window.getComputedStyle(gd).display;\n",
       "        if (!display || display === 'none') {{\n",
       "            console.log([gd, 'removed!']);\n",
       "            Plotly.purge(gd);\n",
       "            observer.disconnect();\n",
       "        }}\n",
       "}});\n",
       "\n",
       "// Listen for the removal of the full notebook cells\n",
       "var notebookContainer = gd.closest('#notebook-container');\n",
       "if (notebookContainer) {{\n",
       "    x.observe(notebookContainer, {childList: true});\n",
       "}}\n",
       "\n",
       "// Listen for the clearing of the current output cell\n",
       "var outputEl = gd.closest('.output');\n",
       "if (outputEl) {{\n",
       "    x.observe(outputEl, {childList: true});\n",
       "}}\n",
       "\n",
       "                        })                };                });            </script>        </div>"
      ]
     },
     "metadata": {},
     "output_type": "display_data"
    }
   ],
   "source": [
    "\n",
    "def plot_growth(df,col):\n",
    "    return Scatter(\n",
    "        x=df['Month'],\n",
    "        y=df[col],\n",
    "        mode='lines',\n",
    "        name=f'{col}th',\n",
    "        line=dict(\n",
    "            shape = 'linear',\n",
    "            color = percentiles_to_color.get(col, 'rgb(205, 12, 24)'),\n",
    "            width= 1,\n",
    "            dash = 'solid'\n",
    "        ) if col in percentiles_to_color else {}\n",
    "    )\n",
    "\n",
    "\n",
    "# line_sytle = {\n",
    "#     2: dict(shape = 'linear', color = 'rgb(205, 12, 24)', width= 1, dash = 'dash'),\n",
    "#     10: dict(shape = 'linear', color = 'rgb(205, 12, 24)', width= 1, dash = 'dot'),\n",
    "\n",
    "# }\n",
    "\n",
    "plots = []\n",
    "for col in nums_col:\n",
    "    # trace = Scatter(\n",
    "    #     x=df['Month'],\n",
    "    #     y=df[col],\n",
    "    #     mode='lines',\n",
    "    #     name=f'{col}th',\n",
    "    #     line = line_sytle.get(col, {}),\n",
    "    #     marker=dict(\n",
    "    #         size=.5,\n",
    "    #         # color='red'\n",
    "    #         # color='rgba(152, 0, 0, .8)',\n",
    "    #         # line=dict(\n",
    "    #         #     width=2,\n",
    "    #         #     color='rgb(0, 0, 0)'\n",
    "    #         # )\n",
    "    #     )\n",
    "    # )\n",
    "    trace = plot_growth(df, col)\n",
    "    plots.append(trace)\n",
    "\n",
    "\n",
    "## add hover info for each subject\n",
    "trace = Scatter(\n",
    "    x=nikki_df['months'],\n",
    "    y=nikki_df['weight_kg'],\n",
    "    mode='markers',\n",
    "    name='Subject',\n",
    "    text=nikki_df['percentile'].astype(str) + '%',  \n",
    "    # hoverinfosrc=subjects['percentile'],\n",
    "    # hoverinfo='name',\n",
    "    # hoveron=subjects,\n",
    "    marker=dict(\n",
    "        size=5,\n",
    "        color='red',\n",
    "        # color='rgba(152, 0, 0, .8)',\n",
    "        # line=dict(\n",
    "        #     width=2,\n",
    "        #     color='rgb(0, 0, 0)'\n",
    "        # )\n",
    "    )\n",
    ")\n",
    "\n",
    "plots.append(trace)\n",
    "iplot(plots)"
   ]
  },
  {
   "cell_type": "code",
   "execution_count": 373,
   "metadata": {},
   "outputs": [
    {
     "ename": "ValueError",
     "evalue": "Z-score must be between -3 and 3",
     "output_type": "error",
     "traceback": [
      "\u001b[0;31m---------------------------------------------------------------------------\u001b[0m",
      "\u001b[0;31mValueError\u001b[0m                                Traceback (most recent call last)",
      "Cell \u001b[0;32mIn[373], line 1\u001b[0m\n\u001b[0;32m----> 1\u001b[0m \u001b[43mC_alpha\u001b[49m\u001b[43m(\u001b[49m\u001b[38;5;241;43m1\u001b[39;49m\u001b[43m,\u001b[49m\u001b[43m \u001b[49m\u001b[38;5;241;43m16.9392\u001b[39;49m\u001b[43m,\u001b[49m\u001b[43m \u001b[49m\u001b[38;5;241;43m-\u001b[39;49m\u001b[38;5;241;43m1.7862\u001b[39;49m\u001b[43m,\u001b[49m\u001b[43m \u001b[49m\u001b[38;5;241;43m0.11070\u001b[39;49m\u001b[43m,\u001b[49m\u001b[43m \u001b[49m\u001b[38;5;241;43m3.35\u001b[39;49m\u001b[43m)\u001b[49m\n",
      "Cell \u001b[0;32mIn[349], line 20\u001b[0m, in \u001b[0;36mC_alpha\u001b[0;34m(t, M, L, S, zscore)\u001b[0m\n\u001b[1;32m     18\u001b[0m \u001b[38;5;66;03m# Ensure Z_alpha is within the constraint\u001b[39;00m\n\u001b[1;32m     19\u001b[0m \u001b[38;5;28;01mif\u001b[39;00m zscore \u001b[38;5;241m<\u001b[39m \u001b[38;5;241m-\u001b[39m\u001b[38;5;241m3\u001b[39m \u001b[38;5;129;01mor\u001b[39;00m zscore \u001b[38;5;241m>\u001b[39m \u001b[38;5;241m3\u001b[39m:\n\u001b[0;32m---> 20\u001b[0m   \u001b[38;5;28;01mraise\u001b[39;00m \u001b[38;5;167;01mValueError\u001b[39;00m(\u001b[38;5;124m\"\u001b[39m\u001b[38;5;124mZ-score must be between -3 and 3\u001b[39m\u001b[38;5;124m\"\u001b[39m)\n\u001b[1;32m     22\u001b[0m \u001b[38;5;66;03m# Implement the formula\u001b[39;00m\n\u001b[1;32m     23\u001b[0m \u001b[38;5;28;01mreturn\u001b[39;00m M \u001b[38;5;241m*\u001b[39m (\u001b[38;5;241m1\u001b[39m \u001b[38;5;241m+\u001b[39m L \u001b[38;5;241m*\u001b[39m S \u001b[38;5;241m*\u001b[39m zscore)\u001b[38;5;241m*\u001b[39m\u001b[38;5;241m*\u001b[39m(\u001b[38;5;241m1\u001b[39m\u001b[38;5;241m/\u001b[39mL)\n",
      "\u001b[0;31mValueError\u001b[0m: Z-score must be between -3 and 3"
     ]
    }
   ],
   "source": [
    "# C_alpha(1, 16.9392, -1.7862, 0.11070, 3.35)\n"
   ]
  },
  {
   "cell_type": "code",
   "execution_count": null,
   "metadata": {},
   "outputs": [
    {
     "data": {
      "text/plain": [
       "4.916947138282334"
      ]
     },
     "execution_count": 264,
     "metadata": {},
     "output_type": "execute_result"
    }
   ],
   "source": [
    "lb_and_oz_to_kg(10,4.4)\n",
    "lb_to_kg(10.84)"
   ]
  },
  {
   "cell_type": "code",
   "execution_count": null,
   "metadata": {},
   "outputs": [
    {
     "data": {
      "text/plain": [
       "4.918648111692718"
      ]
     },
     "execution_count": 258,
     "metadata": {},
     "output_type": "execute_result"
    }
   ],
   "source": [
    "lb_and_oz_to_kg(10,13.5)\n"
   ]
  },
  {
   "cell_type": "code",
   "execution_count": null,
   "metadata": {},
   "outputs": [
    {
     "data": {
      "text/plain": [
       "['10', '13.5']"
      ]
     },
     "execution_count": 261,
     "metadata": {},
     "output_type": "execute_result"
    }
   ],
   "source": [
    "'10.13.5'.split(\".\",1)  "
   ]
  },
  {
   "cell_type": "code",
   "execution_count": null,
   "metadata": {},
   "outputs": [],
   "source": [
    "from pathlib import Path\n",
    "from collections import defaultdict\n"
   ]
  },
  {
   "cell_type": "code",
   "execution_count": null,
   "metadata": {},
   "outputs": [
    {
     "name": "stdout",
     "output_type": "stream",
     "text": [
      "bmi.girls.0_2\n",
      "bmi.boys.0_2\n",
      "lhfa.boys.0_2\n",
      "bmi.girls.2_5\n",
      "lhfa.boys.2_5\n",
      "bmi.boys.2_5\n",
      "hcfa.girls.0_5\n",
      "wfa.boys.0_5\n",
      "lhfa.girls.2_5\n",
      "wfa.girls.0_5\n",
      "lhfa.girls.0_2\n",
      "hcfa.boys.0_5\n",
      "Memory usage of dfs: 192 bytes\n"
     ]
    }
   ],
   "source": [
    "\n"
   ]
  },
  {
   "cell_type": "code",
   "execution_count": null,
   "metadata": {},
   "outputs": [
    {
     "name": "stdout",
     "output_type": "stream",
     "text": [
      "<class 'pandas.core.frame.DataFrame'>\n",
      "RangeIndex: 61 entries, 0 to 60\n",
      "Data columns (total 19 columns):\n",
      " #   Column  Non-Null Count  Dtype  \n",
      "---  ------  --------------  -----  \n",
      " 0   Month   61 non-null     int64  \n",
      " 1   L       61 non-null     float64\n",
      " 2   M       61 non-null     float64\n",
      " 3   S       61 non-null     float64\n",
      " 4   P01     61 non-null     float64\n",
      " 5   P1      61 non-null     float64\n",
      " 6   P3      61 non-null     float64\n",
      " 7   P5      61 non-null     float64\n",
      " 8   P10     61 non-null     float64\n",
      " 9   P15     61 non-null     float64\n",
      " 10  P25     61 non-null     float64\n",
      " 11  P50     61 non-null     float64\n",
      " 12  P75     61 non-null     float64\n",
      " 13  P85     61 non-null     float64\n",
      " 14  P90     61 non-null     float64\n",
      " 15  P95     61 non-null     float64\n",
      " 16  P97     61 non-null     float64\n",
      " 17  P99     61 non-null     float64\n",
      " 18  P999    61 non-null     float64\n",
      "dtypes: float64(18), int64(1)\n",
      "memory usage: 9.2 KB\n"
     ]
    }
   ],
   "source": [
    "dfs['girls']['wfa'][0, 5].info(memory_usage='deep')"
   ]
  },
  {
   "cell_type": "code",
   "execution_count": 404,
   "metadata": {},
   "outputs": [],
   "source": [
    "# for _, dfx in df[['L','M','S',25]].iterrows():\n",
    "#     # print(dfx)  \n",
    "    \n",
    "#     LMS = dfx[['L','M','S']].values \n",
    "#     # print(LMS)\n",
    "#     print(Zind(*LMS, dfx[25]).z_score_to_percentile().round(2))\n",
    "\n",
    "df.head().to_csv('test.csv', index=False)\n",
    "    "
   ]
  },
  {
   "cell_type": "code",
   "execution_count": 417,
   "metadata": {},
   "outputs": [
    {
     "name": "stderr",
     "output_type": "stream",
     "text": [
      "/var/folders/wl/gxtj7gr176jczz5qf034r6gc0000gn/T/ipykernel_31219/4097568179.py:19: RuntimeWarning:\n",
      "\n",
      "invalid value encountered in long_scalars\n",
      "\n"
     ]
    },
    {
     "ename": "ValueError",
     "evalue": "Zind not in range",
     "output_type": "error",
     "traceback": [
      "\u001b[0;31m---------------------------------------------------------------------------\u001b[0m",
      "\u001b[0;31mValueError\u001b[0m                                Traceback (most recent call last)",
      "Cell \u001b[0;32mIn[417], line 67\u001b[0m\n\u001b[1;32m     63\u001b[0m L, M, S \u001b[38;5;241m=\u001b[39m interpolate_lms(age, data)\n\u001b[1;32m     65\u001b[0m \u001b[38;5;66;03m# Calculate z-score and percentile\u001b[39;00m\n\u001b[1;32m     66\u001b[0m \u001b[38;5;66;03m# z_score = weight_for_age_z_score(weight, L, M, S)\u001b[39;00m\n\u001b[0;32m---> 67\u001b[0m z_score \u001b[38;5;241m=\u001b[39m \u001b[43mZind\u001b[49m\u001b[43m(\u001b[49m\u001b[43mL\u001b[49m\u001b[43m,\u001b[49m\u001b[43m \u001b[49m\u001b[43mM\u001b[49m\u001b[43m,\u001b[49m\u001b[43m \u001b[49m\u001b[43mS\u001b[49m\u001b[43m,\u001b[49m\u001b[43m \u001b[49m\u001b[43mweight\u001b[49m\u001b[43m)\u001b[49m\u001b[38;5;241;43m.\u001b[39;49m\u001b[43mzscore\u001b[49m\u001b[43m(\u001b[49m\u001b[43m)\u001b[49m\n\u001b[1;32m     68\u001b[0m percentile \u001b[38;5;241m=\u001b[39m weight_for_age_percentile(z_score)\n\u001b[1;32m     70\u001b[0m \u001b[38;5;28mprint\u001b[39m(\u001b[38;5;124mf\u001b[39m\u001b[38;5;124m\"\u001b[39m\u001b[38;5;124mAge: \u001b[39m\u001b[38;5;132;01m{\u001b[39;00mage\u001b[38;5;132;01m}\u001b[39;00m\u001b[38;5;124m months, Weight: \u001b[39m\u001b[38;5;132;01m{\u001b[39;00mweight\u001b[38;5;132;01m}\u001b[39;00m\u001b[38;5;124m kg\u001b[39m\u001b[38;5;124m\"\u001b[39m)\n",
      "Cell \u001b[0;32mIn[397], line 51\u001b[0m, in \u001b[0;36mZind.zscore\u001b[0;34m(self)\u001b[0m\n\u001b[1;32m     49\u001b[0m     \u001b[38;5;28;01mreturn\u001b[39;00m \u001b[38;5;241m-\u001b[39m\u001b[38;5;241m3\u001b[39m \u001b[38;5;241m+\u001b[39m (\u001b[38;5;28mself\u001b[39m\u001b[38;5;241m.\u001b[39my \u001b[38;5;241m-\u001b[39m \u001b[38;5;28mself\u001b[39m\u001b[38;5;241m.\u001b[39msdx(\u001b[38;5;241m-\u001b[39m\u001b[38;5;241m3\u001b[39m)) \u001b[38;5;241m/\u001b[39m \u001b[38;5;28mself\u001b[39m\u001b[38;5;241m.\u001b[39msdneg23()\n\u001b[1;32m     50\u001b[0m \u001b[38;5;28;01melse\u001b[39;00m:\n\u001b[0;32m---> 51\u001b[0m     \u001b[38;5;28;01mraise\u001b[39;00m \u001b[38;5;167;01mValueError\u001b[39;00m(\u001b[38;5;124m\"\u001b[39m\u001b[38;5;124mZind not in range\u001b[39m\u001b[38;5;124m\"\u001b[39m)\n",
      "\u001b[0;31mValueError\u001b[0m: Zind not in range"
     ]
    }
   ],
   "source": [
    "import pandas as pd\n",
    "from scipy.stats import norm\n",
    "\n",
    "def interpolate_lms(age, data):\n",
    "    \"\"\"\n",
    "    Interpolate L, M, and S values for a given age using linear interpolation.\n",
    "    \n",
    "    Args:\n",
    "        age (float): The age in months.\n",
    "        data (pandas.DataFrame): The data frame containing L, M, and S values.\n",
    "        \n",
    "    Returns:\n",
    "        tuple: A tuple containing the interpolated L, M, and S values.\n",
    "    \"\"\"\n",
    "    age_lower = data.index[data.index <= age].max()\n",
    "    age_upper = data.index[data.index >= age].min()\n",
    "    \n",
    "    age_diff = age_upper - age_lower\n",
    "    age_frac = (age - age_lower) / age_diff\n",
    "    \n",
    "    L = data.loc[age_lower, 'L'] + age_frac * (data.loc[age_upper, 'L'] - data.loc[age_lower, 'L'])\n",
    "    M = data.loc[age_lower, 'M'] + age_frac * (data.loc[age_upper, 'M'] - data.loc[age_lower, 'M'])\n",
    "    S = data.loc[age_lower, 'S'] + age_frac * (data.loc[age_upper, 'S'] - data.loc[age_lower, 'S'])\n",
    "    \n",
    "    return L, M, S\n",
    "\n",
    "def weight_for_age_z_score(weight, L, M, S):\n",
    "    \"\"\"\n",
    "    Calculate the z-score for weight-for-age using the LMS method.\n",
    "    \n",
    "    Args:\n",
    "        weight (float): The child's weight in kg.\n",
    "        L (float): The Box-Cox power parameter.\n",
    "        M (float): The median weight.\n",
    "        S (float): The coefficient of variation.\n",
    "        \n",
    "    Returns:\n",
    "        float: The z-score for weight-for-age.\n",
    "    \"\"\"\n",
    "    z_ind = ((weight / M) ** L - 1) / (L * S)\n",
    "    return z_ind\n",
    "\n",
    "def weight_for_age_percentile(z_score):\n",
    "    \"\"\"\n",
    "    Calculate the growth percentile from the z-score using the standard normal distribution.\n",
    "    \n",
    "    Args:\n",
    "        z_score (float): The z-score for weight-for-age.\n",
    "        \n",
    "    Returns:\n",
    "        float: The growth percentile.\n",
    "    \"\"\"\n",
    "    return 100 * norm.cdf(z_score)\n",
    "\n",
    "# Load the data from the CSV file\n",
    "data = pd.read_csv('test.csv', index_col='Month')\n",
    "\n",
    "# Example usage\n",
    "age = 2  # Age in months\n",
    "weight = 3.35  # Weight in kg\n",
    "\n",
    "# Interpolate L, M, and S values for the given age\n",
    "L, M, S = interpolate_lms(age, data)\n",
    "\n",
    "# Calculate z-score and percentile\n",
    "# z_score = weight_for_age_z_score(weight, L, M, S)\n",
    "z_score = Zind(L, M, S, weight).zscore()\n",
    "percentile = weight_for_age_percentile(z_score)\n",
    "\n",
    "print(f\"Age: {age} months, Weight: {weight} kg\")\n",
    "print(f\"Z-score for weight-for-age: {z_score:.2f}\")\n",
    "print(f\"Growth percentile: {percentile:.2f}%\")"
   ]
  },
  {
   "cell_type": "code",
   "execution_count": null,
   "metadata": {},
   "outputs": [],
   "source": []
  }
 ],
 "metadata": {
  "kernelspec": {
   "display_name": "openai",
   "language": "python",
   "name": "python3"
  },
  "language_info": {
   "codemirror_mode": {
    "name": "ipython",
    "version": 3
   },
   "file_extension": ".py",
   "mimetype": "text/x-python",
   "name": "python",
   "nbconvert_exporter": "python",
   "pygments_lexer": "ipython3",
   "version": "3.11.0"
  }
 },
 "nbformat": 4,
 "nbformat_minor": 2
}
